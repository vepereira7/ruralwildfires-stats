{
 "cells": [
  {
   "cell_type": "markdown",
   "metadata": {},
   "source": [
    "# FCED - STATISTICS\n",
    "\n",
    "- Vitor Pereira - up202210497"
   ]
  },
  {
   "cell_type": "markdown",
   "metadata": {},
   "source": [
    "## Table of contents\n",
    "\n",
    "* [Introduction](#intro)\n",
    "* [Step 1 : Ask a research question](#step1)\n",
    "* [Step 2 : Design a study and collect data](#step2)\n",
    "* [Step 3 : Explore the data](#step3)\n",
    "    * [Variables](#variables)\n",
    "    * [Data Cleaning](#dc)\n",
    "        * [Null Values](#nv)\n",
    "        * [Inconsistent Values](#inconsistentvalues)\n",
    "        * [Outliers](#outliers)\n",
    "    * [Univariate Analysis](#univar)\n",
    "        * [TempoAcao](#TempoAcao)\n",
    "        * [AreaTotalQueimada](#queimada)\n",
    "        * [DataAlerta & HoraAlerta](#dh)\n",
    "        * [Tipo](#tipo)\n",
    "        * [Distrito](#distrito)\n",
    "    * [Multivariate Analyses](#multi)\n",
    "* [Step 4 : Draw Inferences](#infer)\n",
    "    * [Question 1](#q1)\n",
    "* [Step 5 : Formulate Conclusion](#conc)\n",
    "* [Step 6 : Look back and ahead](#ba)\n",
    "\n",
    "    \n",
    "        \n",
    "        \n",
    "    "
   ]
  },
  {
   "cell_type": "markdown",
   "metadata": {},
   "source": [
    "## Introduction<a class=\"anchor\" id=\"intro\"></a>"
   ]
  },
  {
   "cell_type": "markdown",
   "metadata": {},
   "source": [
    "Every year, Portugal, is a country affected by a large number of fires. This fires have an huge impact in people's life, because the burnt area increases from year to year, peolple lose their houses and sometimes they also lose their lives. It's very important to understand fires' causes and also find ways to fight it.\n",
    "\n",
    "Therefore, this project proposes to ask two questions and try to answer them. To do this, I will use a method called \"Six-Step Statistical Investigation\", using the Wildfires in Portugal dataset from 2015. The method is divided into the following steps:\n",
    "\n",
    "- Step 1 : Ask a research question\n",
    "- Step 2 : Design a study and collect data\n",
    "- Step 3 : Explore the data\n",
    "- Step 4 : Draw Inferences\n",
    "- Step 5 : Formulate conclusions\n",
    "- Step 6 : Look back and ahead"
   ]
  },
  {
   "cell_type": "markdown",
   "metadata": {},
   "source": [
    "## STEP 1: Ask a research question<a class=\"anchor\" id=\"step1\"></a>\n",
    "\n",
    "The reasearch questions that I will try to answer through this method are:\n",
    "\n",
    "#### Q1 - Is there any relationship in between when started the fire and total burnt area in that fire?\n",
    "\n",
    "#### Q2 - Is there a relationship between the action time and the number of burned areas?\n",
    "\n",
    "- In order to create this variable **(TempoAcao)**, I subtracted **Data Intervencao** and **HoraIntervencao** (which is the date and the time that the firefights start to fight the fire) to **Data** and **HoraAlerta** (which is the date and the time that was given the alert).\n"
   ]
  },
  {
   "cell_type": "code",
   "execution_count": 1,
   "metadata": {},
   "outputs": [],
   "source": [
    "import numpy as np\n",
    "import seaborn as sns\n",
    "import matplotlib.pyplot as plt\n",
    "from scipy import stats\n",
    "import pandas as pd\n",
    "import numpy as np\n",
    "import datetime\n",
    "import warnings\n",
    "warnings.filterwarnings(\"ignore\")"
   ]
  },
  {
   "cell_type": "code",
   "execution_count": 2,
   "metadata": {},
   "outputs": [],
   "source": [
    "df = pd.read_excel('Lista_Incendios_2015_2.xlsx', parse_dates=True)\n",
    "#df.head()"
   ]
  },
  {
   "cell_type": "code",
   "execution_count": 3,
   "metadata": {},
   "outputs": [],
   "source": [
    "#df.dtypes\n",
    "df = df.rename(columns={\"AA_Total (pov+mato+agric) (ha)\":\"AreaTotalQueimada\"})\n",
    "df['DataAlerta'] = pd.to_datetime(df['DataAlerta'], dayfirst=True)\n",
    "df['DataIntervencao'] = pd.to_datetime(df['DataIntervencao'], dayfirst=True)\n",
    "#df.dtypes"
   ]
  },
  {
   "cell_type": "code",
   "execution_count": 4,
   "metadata": {},
   "outputs": [
    {
     "name": "stdout",
     "output_type": "stream",
     "text": [
      "23175\n"
     ]
    }
   ],
   "source": [
    "#df.isnull().sum()\n",
    "\n",
    "#df.describe(include='all')\n",
    "print(len(df.index))"
   ]
  },
  {
   "cell_type": "markdown",
   "metadata": {},
   "source": [
    "## STEP 2 : Design a study and collect data<a class=\"anchor\" id=\"step2\"></a>\n",
    "\n",
    "Since the data was already given to us and also the study main goal, this part is already done."
   ]
  },
  {
   "cell_type": "markdown",
   "metadata": {},
   "source": [
    "## STEP 3 : Explore the data<a class=\"anchor\" id=\"step3\"></a>\n",
    "\n",
    "In this step, I will define the variables to answer the questions. Then, I will explore these variables on it's own by some graphs in order to visualize if there is any relation between them. Afterwards, I also will do a multivariate analysis, to understand if there is correlation between them."
   ]
  },
  {
   "cell_type": "markdown",
   "metadata": {},
   "source": [
    "### Variables<a class=\"anchor\" id=\"variables\"></a>\n",
    "\n",
    "In order to answer the questions, I've choosen two categorical variables and five numerical variables.\n",
    "\n",
    "\n",
    "**Categorical Variables:**\n",
    "\n",
    "- <font color='darkorange'>Tipo:</font> Type of fire\n",
    "- <font color='darkorange'>Distrito:</font> The district where the fire ocur -  in this particulary case, I've choosen Guarda which was the district with higher burnt area in the interior, and then Viana do Castelo, because it was the district with the most burnt area near the sea.\n",
    "\n",
    "**Numerical Variables:**\n",
    "- <font color='royalblue'>TempoAcao:</font> This is a new variable that I've created by subtracting Data Intervecao and HoraIntervencao to DataAlerta and HoraAlerta. This variables gives the time since the alert was given, until the firefighters started their job.\n",
    "- <font color='royalblue'>DataAlerta:</font> The date when the firefighters received the alarm.\n",
    "- <font color='royalblue'>HoraAlerta:</font> The time when the firefighters received the alarm.\n",
    "- <font color='royalblue'>AreaTotalQueimada:</font> Total burnt area in acres\n"
   ]
  },
  {
   "cell_type": "code",
   "execution_count": 10,
   "metadata": {},
   "outputs": [],
   "source": [
    "df['TempoAcao'] = df['DataIntervencao'] - df['DataAlerta']\n",
    "df['TempoAcao']=df['TempoAcao']/np.timedelta64(1,'m')\n",
    "df2 = df[['Tipo', 'Distrito', 'DataAlerta', 'DataIntervencao', 'TempoAcao', 'AreaTotalQueimada']]\n",
    "#df_2"
   ]
  },
  {
   "cell_type": "markdown",
   "metadata": {},
   "source": [
    "### Data Cleaning<a class=\"anchor\" id=\"dc\"></a>"
   ]
  },
  {
   "cell_type": "markdown",
   "metadata": {},
   "source": [
    "In order to have a clean and valid dataset to do this project, I need clearify if there is any potencial error and any null value."
   ]
  },
  {
   "cell_type": "markdown",
   "metadata": {},
   "source": [
    "#### Null Values<a class=\"anchor\" id=\"nv\"></a>"
   ]
  },
  {
   "cell_type": "code",
   "execution_count": 11,
   "metadata": {},
   "outputs": [
    {
     "data": {
      "text/plain": [
       "Tipo                    0\n",
       "Distrito                0\n",
       "DataAlerta              0\n",
       "DataIntervencao      1199\n",
       "TempoAcao            1199\n",
       "AreaTotalQueimada       0\n",
       "dtype: int64"
      ]
     },
     "execution_count": 11,
     "metadata": {},
     "output_type": "execute_result"
    }
   ],
   "source": [
    "#df['TempoAcao']\n",
    "df2.isnull().sum()\n"
   ]
  },
  {
   "cell_type": "code",
   "execution_count": 12,
   "metadata": {},
   "outputs": [
    {
     "data": {
      "text/plain": [
       "Tipo                 0\n",
       "Distrito             0\n",
       "DataAlerta           0\n",
       "DataIntervencao      0\n",
       "TempoAcao            0\n",
       "AreaTotalQueimada    0\n",
       "dtype: int64"
      ]
     },
     "execution_count": 12,
     "metadata": {},
     "output_type": "execute_result"
    }
   ],
   "source": [
    "df3 = df2.dropna()\n",
    "df3.isnull().sum()"
   ]
  },
  {
   "cell_type": "markdown",
   "metadata": {},
   "source": [
    "#### Inconsistent Values<a class=\"anchor\" id=\"inconsistentvalues\"></a>"
   ]
  },
  {
   "cell_type": "code",
   "execution_count": 13,
   "metadata": {},
   "outputs": [
    {
     "data": {
      "text/html": [
       "<div>\n",
       "<style scoped>\n",
       "    .dataframe tbody tr th:only-of-type {\n",
       "        vertical-align: middle;\n",
       "    }\n",
       "\n",
       "    .dataframe tbody tr th {\n",
       "        vertical-align: top;\n",
       "    }\n",
       "\n",
       "    .dataframe thead th {\n",
       "        text-align: right;\n",
       "    }\n",
       "</style>\n",
       "<table border=\"1\" class=\"dataframe\">\n",
       "  <thead>\n",
       "    <tr style=\"text-align: right;\">\n",
       "      <th></th>\n",
       "      <th>Tipo</th>\n",
       "      <th>DataAlerta</th>\n",
       "      <th>DataIntervencao</th>\n",
       "      <th>TempoAcao</th>\n",
       "      <th>AreaTotalQueimada</th>\n",
       "    </tr>\n",
       "    <tr>\n",
       "      <th>Distrito</th>\n",
       "      <th></th>\n",
       "      <th></th>\n",
       "      <th></th>\n",
       "      <th></th>\n",
       "      <th></th>\n",
       "    </tr>\n",
       "  </thead>\n",
       "  <tbody>\n",
       "    <tr>\n",
       "      <th>Aveiro</th>\n",
       "      <td>1686</td>\n",
       "      <td>1686</td>\n",
       "      <td>1686</td>\n",
       "      <td>1686</td>\n",
       "      <td>1686</td>\n",
       "    </tr>\n",
       "    <tr>\n",
       "      <th>Beja</th>\n",
       "      <td>328</td>\n",
       "      <td>328</td>\n",
       "      <td>328</td>\n",
       "      <td>328</td>\n",
       "      <td>328</td>\n",
       "    </tr>\n",
       "    <tr>\n",
       "      <th>Braga</th>\n",
       "      <td>2190</td>\n",
       "      <td>2190</td>\n",
       "      <td>2190</td>\n",
       "      <td>2190</td>\n",
       "      <td>2190</td>\n",
       "    </tr>\n",
       "    <tr>\n",
       "      <th>Bragança</th>\n",
       "      <td>719</td>\n",
       "      <td>719</td>\n",
       "      <td>719</td>\n",
       "      <td>719</td>\n",
       "      <td>719</td>\n",
       "    </tr>\n",
       "    <tr>\n",
       "      <th>Castelo Branco</th>\n",
       "      <td>541</td>\n",
       "      <td>541</td>\n",
       "      <td>541</td>\n",
       "      <td>541</td>\n",
       "      <td>541</td>\n",
       "    </tr>\n",
       "    <tr>\n",
       "      <th>Coimbra</th>\n",
       "      <td>711</td>\n",
       "      <td>711</td>\n",
       "      <td>711</td>\n",
       "      <td>711</td>\n",
       "      <td>711</td>\n",
       "    </tr>\n",
       "    <tr>\n",
       "      <th>Faro</th>\n",
       "      <td>545</td>\n",
       "      <td>545</td>\n",
       "      <td>545</td>\n",
       "      <td>545</td>\n",
       "      <td>545</td>\n",
       "    </tr>\n",
       "    <tr>\n",
       "      <th>Guarda</th>\n",
       "      <td>786</td>\n",
       "      <td>786</td>\n",
       "      <td>786</td>\n",
       "      <td>786</td>\n",
       "      <td>786</td>\n",
       "    </tr>\n",
       "    <tr>\n",
       "      <th>Leiria</th>\n",
       "      <td>879</td>\n",
       "      <td>879</td>\n",
       "      <td>879</td>\n",
       "      <td>879</td>\n",
       "      <td>879</td>\n",
       "    </tr>\n",
       "    <tr>\n",
       "      <th>Lisboa</th>\n",
       "      <td>1884</td>\n",
       "      <td>1884</td>\n",
       "      <td>1884</td>\n",
       "      <td>1884</td>\n",
       "      <td>1884</td>\n",
       "    </tr>\n",
       "    <tr>\n",
       "      <th>Portalegre</th>\n",
       "      <td>281</td>\n",
       "      <td>281</td>\n",
       "      <td>281</td>\n",
       "      <td>281</td>\n",
       "      <td>281</td>\n",
       "    </tr>\n",
       "    <tr>\n",
       "      <th>Porto</th>\n",
       "      <td>4391</td>\n",
       "      <td>4391</td>\n",
       "      <td>4391</td>\n",
       "      <td>4391</td>\n",
       "      <td>4391</td>\n",
       "    </tr>\n",
       "    <tr>\n",
       "      <th>Santarém</th>\n",
       "      <td>1247</td>\n",
       "      <td>1247</td>\n",
       "      <td>1247</td>\n",
       "      <td>1247</td>\n",
       "      <td>1247</td>\n",
       "    </tr>\n",
       "    <tr>\n",
       "      <th>Setúbal</th>\n",
       "      <td>1151</td>\n",
       "      <td>1151</td>\n",
       "      <td>1151</td>\n",
       "      <td>1151</td>\n",
       "      <td>1151</td>\n",
       "    </tr>\n",
       "    <tr>\n",
       "      <th>Viana Do Castelo</th>\n",
       "      <td>76</td>\n",
       "      <td>76</td>\n",
       "      <td>76</td>\n",
       "      <td>76</td>\n",
       "      <td>76</td>\n",
       "    </tr>\n",
       "    <tr>\n",
       "      <th>Viana do Castelo</th>\n",
       "      <td>1475</td>\n",
       "      <td>1475</td>\n",
       "      <td>1475</td>\n",
       "      <td>1475</td>\n",
       "      <td>1475</td>\n",
       "    </tr>\n",
       "    <tr>\n",
       "      <th>Vila Real</th>\n",
       "      <td>1419</td>\n",
       "      <td>1419</td>\n",
       "      <td>1419</td>\n",
       "      <td>1419</td>\n",
       "      <td>1419</td>\n",
       "    </tr>\n",
       "    <tr>\n",
       "      <th>Viseu</th>\n",
       "      <td>1383</td>\n",
       "      <td>1383</td>\n",
       "      <td>1383</td>\n",
       "      <td>1383</td>\n",
       "      <td>1383</td>\n",
       "    </tr>\n",
       "    <tr>\n",
       "      <th>Évora</th>\n",
       "      <td>284</td>\n",
       "      <td>284</td>\n",
       "      <td>284</td>\n",
       "      <td>284</td>\n",
       "      <td>284</td>\n",
       "    </tr>\n",
       "  </tbody>\n",
       "</table>\n",
       "</div>"
      ],
      "text/plain": [
       "                  Tipo  DataAlerta  DataIntervencao  TempoAcao  \\\n",
       "Distrito                                                         \n",
       "Aveiro            1686        1686             1686       1686   \n",
       "Beja               328         328              328        328   \n",
       "Braga             2190        2190             2190       2190   \n",
       "Bragança           719         719              719        719   \n",
       "Castelo Branco     541         541              541        541   \n",
       "Coimbra            711         711              711        711   \n",
       "Faro               545         545              545        545   \n",
       "Guarda             786         786              786        786   \n",
       "Leiria             879         879              879        879   \n",
       "Lisboa            1884        1884             1884       1884   \n",
       "Portalegre         281         281              281        281   \n",
       "Porto             4391        4391             4391       4391   \n",
       "Santarém          1247        1247             1247       1247   \n",
       "Setúbal           1151        1151             1151       1151   \n",
       "Viana Do Castelo    76          76               76         76   \n",
       "Viana do Castelo  1475        1475             1475       1475   \n",
       "Vila Real         1419        1419             1419       1419   \n",
       "Viseu             1383        1383             1383       1383   \n",
       "Évora              284         284              284        284   \n",
       "\n",
       "                  AreaTotalQueimada  \n",
       "Distrito                             \n",
       "Aveiro                         1686  \n",
       "Beja                            328  \n",
       "Braga                          2190  \n",
       "Bragança                        719  \n",
       "Castelo Branco                  541  \n",
       "Coimbra                         711  \n",
       "Faro                            545  \n",
       "Guarda                          786  \n",
       "Leiria                          879  \n",
       "Lisboa                         1884  \n",
       "Portalegre                      281  \n",
       "Porto                          4391  \n",
       "Santarém                       1247  \n",
       "Setúbal                        1151  \n",
       "Viana Do Castelo                 76  \n",
       "Viana do Castelo               1475  \n",
       "Vila Real                      1419  \n",
       "Viseu                          1383  \n",
       "Évora                           284  "
      ]
     },
     "execution_count": 13,
     "metadata": {},
     "output_type": "execute_result"
    }
   ],
   "source": [
    "df3.groupby('Distrito').count()\n"
   ]
  },
  {
   "cell_type": "code",
   "execution_count": 14,
   "metadata": {},
   "outputs": [
    {
     "data": {
      "text/plain": [
       "Tipo                 317\n",
       "Distrito             317\n",
       "DataAlerta           317\n",
       "DataIntervencao      317\n",
       "TempoAcao            317\n",
       "AreaTotalQueimada    317\n",
       "dtype: int64"
      ]
     },
     "execution_count": 14,
     "metadata": {},
     "output_type": "execute_result"
    }
   ],
   "source": [
    "df3[df3.TempoAcao<=0].count()"
   ]
  },
  {
   "cell_type": "code",
   "execution_count": 15,
   "metadata": {},
   "outputs": [
    {
     "data": {
      "text/plain": [
       "Tipo                 2216\n",
       "Distrito             2216\n",
       "DataAlerta           2216\n",
       "DataIntervencao      2216\n",
       "TempoAcao            2216\n",
       "AreaTotalQueimada    2216\n",
       "dtype: int64"
      ]
     },
     "execution_count": 15,
     "metadata": {},
     "output_type": "execute_result"
    }
   ],
   "source": [
    "df3[df3.AreaTotalQueimada<=0].count()"
   ]
  },
  {
   "cell_type": "code",
   "execution_count": 16,
   "metadata": {},
   "outputs": [],
   "source": [
    "df3['Distrito']=df3['Distrito'].replace(['Viana Do Castelo', 'Viana do Castelo '], 'Viana do Castelo')\n",
    "#df4 = (df3[df3.TempoAcao>0][df3.AreaTotalQueimada>0])\n",
    "df4 = df3[(df3['TempoAcao']>0) & (df3['AreaTotalQueimada']>0)]\n",
    "#print(len(df.index))\n"
   ]
  },
  {
   "cell_type": "markdown",
   "metadata": {},
   "source": [
    "Since I have two values that correspond to the same district ('Viana do Castelo' and 'Viana Do Castelo'), I will fix it and gather them into just one value ('Viana do Castelo').\n",
    "\n",
    "All the null values were also removed. \n",
    "\n",
    "The values less or equal to zero, which belong to the variable called TempoAcao were also removed by inconsistency. \n",
    "\n",
    "In the AreaTotalQueimada, values equal to zero were removed because I only want fires that had burnt area. Through this, I removed all the fires that was false alarm or fires in which firefighters were not required to intervene."
   ]
  },
  {
   "cell_type": "markdown",
   "metadata": {},
   "source": [
    "#### Outliers<a class=\"anchor\" id=\"outliers\"></a>"
   ]
  },
  {
   "cell_type": "code",
   "execution_count": 17,
   "metadata": {},
   "outputs": [
    {
     "data": {
      "text/html": [
       "<div>\n",
       "<style scoped>\n",
       "    .dataframe tbody tr th:only-of-type {\n",
       "        vertical-align: middle;\n",
       "    }\n",
       "\n",
       "    .dataframe tbody tr th {\n",
       "        vertical-align: top;\n",
       "    }\n",
       "\n",
       "    .dataframe thead th {\n",
       "        text-align: right;\n",
       "    }\n",
       "</style>\n",
       "<table border=\"1\" class=\"dataframe\">\n",
       "  <thead>\n",
       "    <tr style=\"text-align: right;\">\n",
       "      <th></th>\n",
       "      <th>TempoAcao</th>\n",
       "      <th>AreaTotalQueimada</th>\n",
       "    </tr>\n",
       "  </thead>\n",
       "  <tbody>\n",
       "    <tr>\n",
       "      <th>count</th>\n",
       "      <td>19455.000000</td>\n",
       "      <td>19455.000000</td>\n",
       "    </tr>\n",
       "    <tr>\n",
       "      <th>mean</th>\n",
       "      <td>16.350655</td>\n",
       "      <td>3.336315</td>\n",
       "    </tr>\n",
       "    <tr>\n",
       "      <th>std</th>\n",
       "      <td>321.190387</td>\n",
       "      <td>54.270645</td>\n",
       "    </tr>\n",
       "    <tr>\n",
       "      <th>min</th>\n",
       "      <td>1.000000</td>\n",
       "      <td>0.000010</td>\n",
       "    </tr>\n",
       "    <tr>\n",
       "      <th>25%</th>\n",
       "      <td>7.000000</td>\n",
       "      <td>0.010000</td>\n",
       "    </tr>\n",
       "    <tr>\n",
       "      <th>50%</th>\n",
       "      <td>11.000000</td>\n",
       "      <td>0.058400</td>\n",
       "    </tr>\n",
       "    <tr>\n",
       "      <th>75%</th>\n",
       "      <td>17.000000</td>\n",
       "      <td>0.500000</td>\n",
       "    </tr>\n",
       "    <tr>\n",
       "      <th>max</th>\n",
       "      <td>44645.000000</td>\n",
       "      <td>4673.000000</td>\n",
       "    </tr>\n",
       "  </tbody>\n",
       "</table>\n",
       "</div>"
      ],
      "text/plain": [
       "          TempoAcao  AreaTotalQueimada\n",
       "count  19455.000000       19455.000000\n",
       "mean      16.350655           3.336315\n",
       "std      321.190387          54.270645\n",
       "min        1.000000           0.000010\n",
       "25%        7.000000           0.010000\n",
       "50%       11.000000           0.058400\n",
       "75%       17.000000           0.500000\n",
       "max    44645.000000        4673.000000"
      ]
     },
     "execution_count": 17,
     "metadata": {},
     "output_type": "execute_result"
    }
   ],
   "source": [
    "df4.describe()"
   ]
  },
  {
   "cell_type": "markdown",
   "metadata": {},
   "source": [
    "Through this table, it's possible to confirm that some inconsistencies are still present. Taking into acount that the maximum in the TempoAcao variable is 44645 min, which gives almost a month, I must set the optimum time. In this case I chose 120 min, which is 3 hours since the alarm was given until they started to fight the fire."
   ]
  },
  {
   "cell_type": "code",
   "execution_count": 18,
   "metadata": {},
   "outputs": [
    {
     "data": {
      "text/html": [
       "<div>\n",
       "<style scoped>\n",
       "    .dataframe tbody tr th:only-of-type {\n",
       "        vertical-align: middle;\n",
       "    }\n",
       "\n",
       "    .dataframe tbody tr th {\n",
       "        vertical-align: top;\n",
       "    }\n",
       "\n",
       "    .dataframe thead th {\n",
       "        text-align: right;\n",
       "    }\n",
       "</style>\n",
       "<table border=\"1\" class=\"dataframe\">\n",
       "  <thead>\n",
       "    <tr style=\"text-align: right;\">\n",
       "      <th></th>\n",
       "      <th>TempoAcao</th>\n",
       "      <th>AreaTotalQueimada</th>\n",
       "    </tr>\n",
       "  </thead>\n",
       "  <tbody>\n",
       "    <tr>\n",
       "      <th>count</th>\n",
       "      <td>19420.000000</td>\n",
       "      <td>19420.000000</td>\n",
       "    </tr>\n",
       "    <tr>\n",
       "      <th>mean</th>\n",
       "      <td>13.318280</td>\n",
       "      <td>3.336738</td>\n",
       "    </tr>\n",
       "    <tr>\n",
       "      <th>std</th>\n",
       "      <td>9.879389</td>\n",
       "      <td>54.318449</td>\n",
       "    </tr>\n",
       "    <tr>\n",
       "      <th>min</th>\n",
       "      <td>1.000000</td>\n",
       "      <td>0.000010</td>\n",
       "    </tr>\n",
       "    <tr>\n",
       "      <th>25%</th>\n",
       "      <td>7.000000</td>\n",
       "      <td>0.010000</td>\n",
       "    </tr>\n",
       "    <tr>\n",
       "      <th>50%</th>\n",
       "      <td>11.000000</td>\n",
       "      <td>0.058000</td>\n",
       "    </tr>\n",
       "    <tr>\n",
       "      <th>75%</th>\n",
       "      <td>16.000000</td>\n",
       "      <td>0.500000</td>\n",
       "    </tr>\n",
       "    <tr>\n",
       "      <th>max</th>\n",
       "      <td>119.000000</td>\n",
       "      <td>4673.000000</td>\n",
       "    </tr>\n",
       "  </tbody>\n",
       "</table>\n",
       "</div>"
      ],
      "text/plain": [
       "          TempoAcao  AreaTotalQueimada\n",
       "count  19420.000000       19420.000000\n",
       "mean      13.318280           3.336738\n",
       "std        9.879389          54.318449\n",
       "min        1.000000           0.000010\n",
       "25%        7.000000           0.010000\n",
       "50%       11.000000           0.058000\n",
       "75%       16.000000           0.500000\n",
       "max      119.000000        4673.000000"
      ]
     },
     "execution_count": 18,
     "metadata": {},
     "output_type": "execute_result"
    }
   ],
   "source": [
    "df5=df4[(df4['TempoAcao']<120)]\n",
    "df5.describe()"
   ]
  },
  {
   "cell_type": "code",
   "execution_count": 19,
   "metadata": {},
   "outputs": [
    {
     "data": {
      "text/plain": [
       "Text(0, 0.5, 'Tempo de Ação (min)')"
      ]
     },
     "execution_count": 19,
     "metadata": {},
     "output_type": "execute_result"
    },
    {
     "data": {
      "image/png": "[encoded data removed]",
      "text/plain": [
       "<Figure size 1440x720 with 1 Axes>"
      ]
     },
     "metadata": {},
     "output_type": "display_data"
    }
   ],
   "source": [
    "sns.set(rc = {'figure.figsize':(20,10)})\n",
    "sns.boxplot(x = df5.Distrito, y = df5.TempoAcao)\n",
    "plt.title('Tempo de Ação por distrito', fontsize = 14)\n",
    "plt.xlabel('Distrito')\n",
    "plt.ylabel('Tempo de Ação (min)')\n"
   ]
  },
  {
   "cell_type": "code",
   "execution_count": 20,
   "metadata": {},
   "outputs": [
    {
     "name": "stdout",
     "output_type": "stream",
     "text": [
      "19420\n"
     ]
    }
   ],
   "source": [
    "print(len(df5.index))"
   ]
  },
  {
   "cell_type": "markdown",
   "metadata": {},
   "source": [
    "### Univariate Analysis<a class=\"anchor\" id=\"univar\"></a>\n",
    "\n",
    "Once the data is already cleaned, the next step is to analyse each variables by it's own."
   ]
  },
  {
   "cell_type": "markdown",
   "metadata": {},
   "source": [
    "#### Dataframe discribe"
   ]
  },
  {
   "cell_type": "code",
   "execution_count": 21,
   "metadata": {},
   "outputs": [
    {
     "data": {
      "text/html": [
       "<div>\n",
       "<style scoped>\n",
       "    .dataframe tbody tr th:only-of-type {\n",
       "        vertical-align: middle;\n",
       "    }\n",
       "\n",
       "    .dataframe tbody tr th {\n",
       "        vertical-align: top;\n",
       "    }\n",
       "\n",
       "    .dataframe thead th {\n",
       "        text-align: right;\n",
       "    }\n",
       "</style>\n",
       "<table border=\"1\" class=\"dataframe\">\n",
       "  <thead>\n",
       "    <tr style=\"text-align: right;\">\n",
       "      <th></th>\n",
       "      <th>Tipo</th>\n",
       "      <th>Distrito</th>\n",
       "      <th>DataAlerta</th>\n",
       "      <th>DataIntervencao</th>\n",
       "      <th>TempoAcao</th>\n",
       "      <th>AreaTotalQueimada</th>\n",
       "    </tr>\n",
       "  </thead>\n",
       "  <tbody>\n",
       "    <tr>\n",
       "      <th>count</th>\n",
       "      <td>19420</td>\n",
       "      <td>19420</td>\n",
       "      <td>19420</td>\n",
       "      <td>19420</td>\n",
       "      <td>19420.000000</td>\n",
       "      <td>19420.000000</td>\n",
       "    </tr>\n",
       "    <tr>\n",
       "      <th>unique</th>\n",
       "      <td>3</td>\n",
       "      <td>18</td>\n",
       "      <td>18342</td>\n",
       "      <td>17725</td>\n",
       "      <td>NaN</td>\n",
       "      <td>NaN</td>\n",
       "    </tr>\n",
       "    <tr>\n",
       "      <th>top</th>\n",
       "      <td>Florestal</td>\n",
       "      <td>Porto</td>\n",
       "      <td>2015-08-10 15:40:00</td>\n",
       "      <td>2015-08-08 16:00:00</td>\n",
       "      <td>NaN</td>\n",
       "      <td>NaN</td>\n",
       "    </tr>\n",
       "    <tr>\n",
       "      <th>freq</th>\n",
       "      <td>14856</td>\n",
       "      <td>3932</td>\n",
       "      <td>4</td>\n",
       "      <td>5</td>\n",
       "      <td>NaN</td>\n",
       "      <td>NaN</td>\n",
       "    </tr>\n",
       "    <tr>\n",
       "      <th>first</th>\n",
       "      <td>NaN</td>\n",
       "      <td>NaN</td>\n",
       "      <td>2015-01-01 05:08:00</td>\n",
       "      <td>2015-01-01 05:36:00</td>\n",
       "      <td>NaN</td>\n",
       "      <td>NaN</td>\n",
       "    </tr>\n",
       "    <tr>\n",
       "      <th>last</th>\n",
       "      <td>NaN</td>\n",
       "      <td>NaN</td>\n",
       "      <td>2015-12-30 11:44:00</td>\n",
       "      <td>2015-12-30 12:01:00</td>\n",
       "      <td>NaN</td>\n",
       "      <td>NaN</td>\n",
       "    </tr>\n",
       "    <tr>\n",
       "      <th>mean</th>\n",
       "      <td>NaN</td>\n",
       "      <td>NaN</td>\n",
       "      <td>NaN</td>\n",
       "      <td>NaN</td>\n",
       "      <td>13.318280</td>\n",
       "      <td>3.336738</td>\n",
       "    </tr>\n",
       "    <tr>\n",
       "      <th>std</th>\n",
       "      <td>NaN</td>\n",
       "      <td>NaN</td>\n",
       "      <td>NaN</td>\n",
       "      <td>NaN</td>\n",
       "      <td>9.879389</td>\n",
       "      <td>54.318449</td>\n",
       "    </tr>\n",
       "    <tr>\n",
       "      <th>min</th>\n",
       "      <td>NaN</td>\n",
       "      <td>NaN</td>\n",
       "      <td>NaN</td>\n",
       "      <td>NaN</td>\n",
       "      <td>1.000000</td>\n",
       "      <td>0.000010</td>\n",
       "    </tr>\n",
       "    <tr>\n",
       "      <th>25%</th>\n",
       "      <td>NaN</td>\n",
       "      <td>NaN</td>\n",
       "      <td>NaN</td>\n",
       "      <td>NaN</td>\n",
       "      <td>7.000000</td>\n",
       "      <td>0.010000</td>\n",
       "    </tr>\n",
       "    <tr>\n",
       "      <th>50%</th>\n",
       "      <td>NaN</td>\n",
       "      <td>NaN</td>\n",
       "      <td>NaN</td>\n",
       "      <td>NaN</td>\n",
       "      <td>11.000000</td>\n",
       "      <td>0.058000</td>\n",
       "    </tr>\n",
       "    <tr>\n",
       "      <th>75%</th>\n",
       "      <td>NaN</td>\n",
       "      <td>NaN</td>\n",
       "      <td>NaN</td>\n",
       "      <td>NaN</td>\n",
       "      <td>16.000000</td>\n",
       "      <td>0.500000</td>\n",
       "    </tr>\n",
       "    <tr>\n",
       "      <th>max</th>\n",
       "      <td>NaN</td>\n",
       "      <td>NaN</td>\n",
       "      <td>NaN</td>\n",
       "      <td>NaN</td>\n",
       "      <td>119.000000</td>\n",
       "      <td>4673.000000</td>\n",
       "    </tr>\n",
       "  </tbody>\n",
       "</table>\n",
       "</div>"
      ],
      "text/plain": [
       "             Tipo Distrito           DataAlerta      DataIntervencao  \\\n",
       "count       19420    19420                19420                19420   \n",
       "unique          3       18                18342                17725   \n",
       "top     Florestal    Porto  2015-08-10 15:40:00  2015-08-08 16:00:00   \n",
       "freq        14856     3932                    4                    5   \n",
       "first         NaN      NaN  2015-01-01 05:08:00  2015-01-01 05:36:00   \n",
       "last          NaN      NaN  2015-12-30 11:44:00  2015-12-30 12:01:00   \n",
       "mean          NaN      NaN                  NaN                  NaN   \n",
       "std           NaN      NaN                  NaN                  NaN   \n",
       "min           NaN      NaN                  NaN                  NaN   \n",
       "25%           NaN      NaN                  NaN                  NaN   \n",
       "50%           NaN      NaN                  NaN                  NaN   \n",
       "75%           NaN      NaN                  NaN                  NaN   \n",
       "max           NaN      NaN                  NaN                  NaN   \n",
       "\n",
       "           TempoAcao  AreaTotalQueimada  \n",
       "count   19420.000000       19420.000000  \n",
       "unique           NaN                NaN  \n",
       "top              NaN                NaN  \n",
       "freq             NaN                NaN  \n",
       "first            NaN                NaN  \n",
       "last             NaN                NaN  \n",
       "mean       13.318280           3.336738  \n",
       "std         9.879389          54.318449  \n",
       "min         1.000000           0.000010  \n",
       "25%         7.000000           0.010000  \n",
       "50%        11.000000           0.058000  \n",
       "75%        16.000000           0.500000  \n",
       "max       119.000000        4673.000000  "
      ]
     },
     "execution_count": 21,
     "metadata": {},
     "output_type": "execute_result"
    }
   ],
   "source": [
    "#df4.groupby(['Distrito']).TempoAcao.mean()\n",
    "df5.describe(include='all')\n",
    "#print(len(df5.index))"
   ]
  },
  {
   "cell_type": "markdown",
   "metadata": {},
   "source": [
    "This is a brief discription of the dataframe, which allow us to get some ideas about these variables. Further analysis will be discuss next."
   ]
  },
  {
   "cell_type": "markdown",
   "metadata": {},
   "source": [
    "#### <font color='royalblue'>TempoAcao</font><a class=\"anchor\" id=\"tempoacao\"></a>"
   ]
  },
  {
   "cell_type": "code",
   "execution_count": 22,
   "metadata": {},
   "outputs": [
    {
     "data": {
      "text/plain": [
       "count    19420.000000\n",
       "mean        13.318280\n",
       "std          9.879389\n",
       "min          1.000000\n",
       "25%          7.000000\n",
       "50%         11.000000\n",
       "75%         16.000000\n",
       "max        119.000000\n",
       "Name: TempoAcao, dtype: float64"
      ]
     },
     "execution_count": 22,
     "metadata": {},
     "output_type": "execute_result"
    }
   ],
   "source": [
    "df5['TempoAcao'].describe()"
   ]
  },
  {
   "cell_type": "code",
   "execution_count": 23,
   "metadata": {},
   "outputs": [
    {
     "data": {
      "image/png": "[encoded data removed]",
      "text/plain": [
       "<Figure size 1440x720 with 1 Axes>"
      ]
     },
     "metadata": {},
     "output_type": "display_data"
    }
   ],
   "source": [
    "sns.set(rc = {'figure.figsize':(20,10)})\n",
    "ta = sns.histplot(x = df5.TempoAcao, kde = True, color = 'dimgray', binwidth=5, edgecolor = 'black')\n",
    "ta.lines[0].set_color('crimson')\n",
    "plt.title('Distribuição do tempo de Ação')\n",
    "plt.xlabel('Tempo de Ação (min)')\n",
    "plt.ylabel('Frequência Absoluta')\n",
    "plt.grid()\n"
   ]
  },
  {
   "cell_type": "code",
   "execution_count": 24,
   "metadata": {},
   "outputs": [
    {
     "data": {
      "text/plain": [
       "Text(0.5, 0, 'Tempo de Ação (min)')"
      ]
     },
     "execution_count": 24,
     "metadata": {},
     "output_type": "execute_result"
    },
    {
     "data": {
      "image/png": "[encoded data removed]",
      "text/plain": [
       "<Figure size 1440x720 with 1 Axes>"
      ]
     },
     "metadata": {},
     "output_type": "display_data"
    }
   ],
   "source": [
    "sns.boxplot(df5.TempoAcao, color = 'mediumturquoise')\n",
    "plt.title('Distribuição do tempo de Ação')\n",
    "plt.xlabel('Tempo de Ação (min)')"
   ]
  },
  {
   "cell_type": "markdown",
   "metadata": {},
   "source": [
    "Through this plots, we can observe that the distribution is right skew. In order to produce a symmetric distribution, I applied a log transformation, because it compresses the lower values and spreads the higher values. This new variable(TempoAcao_log) allow to visualize aproximately the normal distribution of TempoAcao."
   ]
  },
  {
   "cell_type": "code",
   "execution_count": 25,
   "metadata": {},
   "outputs": [
    {
     "data": {
      "text/html": [
       "<div>\n",
       "<style scoped>\n",
       "    .dataframe tbody tr th:only-of-type {\n",
       "        vertical-align: middle;\n",
       "    }\n",
       "\n",
       "    .dataframe tbody tr th {\n",
       "        vertical-align: top;\n",
       "    }\n",
       "\n",
       "    .dataframe thead th {\n",
       "        text-align: right;\n",
       "    }\n",
       "</style>\n",
       "<table border=\"1\" class=\"dataframe\">\n",
       "  <thead>\n",
       "    <tr style=\"text-align: right;\">\n",
       "      <th></th>\n",
       "      <th>Tipo</th>\n",
       "      <th>Distrito</th>\n",
       "      <th>DataAlerta</th>\n",
       "      <th>DataIntervencao</th>\n",
       "      <th>TempoAcao</th>\n",
       "      <th>AreaTotalQueimada</th>\n",
       "      <th>TempoAcao_log</th>\n",
       "    </tr>\n",
       "  </thead>\n",
       "  <tbody>\n",
       "    <tr>\n",
       "      <th>0</th>\n",
       "      <td>Florestal</td>\n",
       "      <td>Viana do Castelo</td>\n",
       "      <td>2015-03-24 17:01:00</td>\n",
       "      <td>2015-03-24 17:10:00</td>\n",
       "      <td>9.0</td>\n",
       "      <td>2.5000</td>\n",
       "      <td>2.197225</td>\n",
       "    </tr>\n",
       "    <tr>\n",
       "      <th>1</th>\n",
       "      <td>Florestal</td>\n",
       "      <td>Porto</td>\n",
       "      <td>2015-03-24 17:10:00</td>\n",
       "      <td>2015-03-24 17:16:00</td>\n",
       "      <td>6.0</td>\n",
       "      <td>1.3500</td>\n",
       "      <td>1.791759</td>\n",
       "    </tr>\n",
       "    <tr>\n",
       "      <th>2</th>\n",
       "      <td>Florestal</td>\n",
       "      <td>Braga</td>\n",
       "      <td>2015-03-24 19:15:00</td>\n",
       "      <td>2015-03-24 19:25:00</td>\n",
       "      <td>10.0</td>\n",
       "      <td>0.2600</td>\n",
       "      <td>2.302585</td>\n",
       "    </tr>\n",
       "    <tr>\n",
       "      <th>4</th>\n",
       "      <td>Agrícola</td>\n",
       "      <td>Viseu</td>\n",
       "      <td>2015-03-24 20:10:00</td>\n",
       "      <td>2015-03-24 20:15:00</td>\n",
       "      <td>5.0</td>\n",
       "      <td>0.0500</td>\n",
       "      <td>1.609438</td>\n",
       "    </tr>\n",
       "    <tr>\n",
       "      <th>5</th>\n",
       "      <td>Florestal</td>\n",
       "      <td>Braga</td>\n",
       "      <td>2015-03-24 18:03:00</td>\n",
       "      <td>2015-03-24 18:15:00</td>\n",
       "      <td>12.0</td>\n",
       "      <td>1.5000</td>\n",
       "      <td>2.484907</td>\n",
       "    </tr>\n",
       "    <tr>\n",
       "      <th>...</th>\n",
       "      <td>...</td>\n",
       "      <td>...</td>\n",
       "      <td>...</td>\n",
       "      <td>...</td>\n",
       "      <td>...</td>\n",
       "      <td>...</td>\n",
       "      <td>...</td>\n",
       "    </tr>\n",
       "    <tr>\n",
       "      <th>23168</th>\n",
       "      <td>Florestal</td>\n",
       "      <td>Braga</td>\n",
       "      <td>2015-08-08 13:51:00</td>\n",
       "      <td>2015-08-08 14:10:00</td>\n",
       "      <td>19.0</td>\n",
       "      <td>0.0400</td>\n",
       "      <td>2.944439</td>\n",
       "    </tr>\n",
       "    <tr>\n",
       "      <th>23169</th>\n",
       "      <td>Florestal</td>\n",
       "      <td>Santarém</td>\n",
       "      <td>2015-08-08 14:16:00</td>\n",
       "      <td>2015-08-08 14:34:00</td>\n",
       "      <td>18.0</td>\n",
       "      <td>0.3425</td>\n",
       "      <td>2.890372</td>\n",
       "    </tr>\n",
       "    <tr>\n",
       "      <th>23170</th>\n",
       "      <td>Florestal</td>\n",
       "      <td>Braga</td>\n",
       "      <td>2015-08-09 02:10:00</td>\n",
       "      <td>2015-08-09 02:20:00</td>\n",
       "      <td>10.0</td>\n",
       "      <td>0.5000</td>\n",
       "      <td>2.302585</td>\n",
       "    </tr>\n",
       "    <tr>\n",
       "      <th>23171</th>\n",
       "      <td>Florestal</td>\n",
       "      <td>Viseu</td>\n",
       "      <td>2015-08-09 04:40:00</td>\n",
       "      <td>2015-08-09 04:53:00</td>\n",
       "      <td>13.0</td>\n",
       "      <td>2.5000</td>\n",
       "      <td>2.564949</td>\n",
       "    </tr>\n",
       "    <tr>\n",
       "      <th>23173</th>\n",
       "      <td>Florestal</td>\n",
       "      <td>Porto</td>\n",
       "      <td>2015-08-09 08:20:00</td>\n",
       "      <td>2015-08-09 08:25:00</td>\n",
       "      <td>5.0</td>\n",
       "      <td>0.0500</td>\n",
       "      <td>1.609438</td>\n",
       "    </tr>\n",
       "  </tbody>\n",
       "</table>\n",
       "<p>19420 rows × 7 columns</p>\n",
       "</div>"
      ],
      "text/plain": [
       "            Tipo          Distrito          DataAlerta     DataIntervencao  \\\n",
       "0      Florestal  Viana do Castelo 2015-03-24 17:01:00 2015-03-24 17:10:00   \n",
       "1      Florestal             Porto 2015-03-24 17:10:00 2015-03-24 17:16:00   \n",
       "2      Florestal             Braga 2015-03-24 19:15:00 2015-03-24 19:25:00   \n",
       "4       Agrícola             Viseu 2015-03-24 20:10:00 2015-03-24 20:15:00   \n",
       "5      Florestal             Braga 2015-03-24 18:03:00 2015-03-24 18:15:00   \n",
       "...          ...               ...                 ...                 ...   \n",
       "23168  Florestal             Braga 2015-08-08 13:51:00 2015-08-08 14:10:00   \n",
       "23169  Florestal          Santarém 2015-08-08 14:16:00 2015-08-08 14:34:00   \n",
       "23170  Florestal             Braga 2015-08-09 02:10:00 2015-08-09 02:20:00   \n",
       "23171  Florestal             Viseu 2015-08-09 04:40:00 2015-08-09 04:53:00   \n",
       "23173  Florestal             Porto 2015-08-09 08:20:00 2015-08-09 08:25:00   \n",
       "\n",
       "       TempoAcao  AreaTotalQueimada  TempoAcao_log  \n",
       "0            9.0             2.5000       2.197225  \n",
       "1            6.0             1.3500       1.791759  \n",
       "2           10.0             0.2600       2.302585  \n",
       "4            5.0             0.0500       1.609438  \n",
       "5           12.0             1.5000       2.484907  \n",
       "...          ...                ...            ...  \n",
       "23168       19.0             0.0400       2.944439  \n",
       "23169       18.0             0.3425       2.890372  \n",
       "23170       10.0             0.5000       2.302585  \n",
       "23171       13.0             2.5000       2.564949  \n",
       "23173        5.0             0.0500       1.609438  \n",
       "\n",
       "[19420 rows x 7 columns]"
      ]
     },
     "execution_count": 25,
     "metadata": {},
     "output_type": "execute_result"
    }
   ],
   "source": [
    "df5['TempoAcao_log'] = np.log(df5['TempoAcao'])\n",
    "df5"
   ]
  },
  {
   "cell_type": "code",
   "execution_count": 26,
   "metadata": {},
   "outputs": [
    {
     "data": {
      "image/png": "[encoded data removed]",
      "text/plain": [
       "<Figure size 864x360 with 1 Axes>"
      ]
     },
     "metadata": {},
     "output_type": "display_data"
    }
   ],
   "source": [
    "plt.subplots(figsize = (12, 5))\n",
    "plt.hist(x = df5.TempoAcao_log, color = 'darkslategray', ec=\"black\")\n",
    "plt.suptitle('Distribuição do Tempo de Ação', fontsize=15)\n",
    "plt.xlabel('Tempo de Ação (min) - Escala log')\n",
    "plt.grid()"
   ]
  },
  {
   "cell_type": "markdown",
   "metadata": {},
   "source": [
    "**Conclusions about <font color='royalblue'>TempoAcao</font>:**\n",
    "\n",
    "- The average time to start fight the fire is 13.3 minutes.\n",
    "- At least 75% of the fires took less than 16 minutes to started to be fighted.\n",
    " "
   ]
  },
  {
   "cell_type": "markdown",
   "metadata": {},
   "source": [
    "#### <font color='royalblue'>AreaTotalQueimada</font><a class=\"anchor\" id=\"queimada\"></a>"
   ]
  },
  {
   "cell_type": "code",
   "execution_count": 27,
   "metadata": {},
   "outputs": [
    {
     "data": {
      "text/plain": [
       "count    19420.000000\n",
       "mean         3.336738\n",
       "std         54.318449\n",
       "min          0.000010\n",
       "25%          0.010000\n",
       "50%          0.058000\n",
       "75%          0.500000\n",
       "max       4673.000000\n",
       "Name: AreaTotalQueimada, dtype: float64"
      ]
     },
     "execution_count": 27,
     "metadata": {},
     "output_type": "execute_result"
    }
   ],
   "source": [
    "df5['AreaTotalQueimada'].describe()"
   ]
  },
  {
   "cell_type": "code",
   "execution_count": 28,
   "metadata": {},
   "outputs": [
    {
     "data": {
      "text/plain": [
       "(0.0, 5.0)"
      ]
     },
     "execution_count": 28,
     "metadata": {},
     "output_type": "execute_result"
    },
    {
     "data": {
      "image/png": "[encoded data removed]",
      "text/plain": [
       "<Figure size 1440x720 with 1 Axes>"
      ]
     },
     "metadata": {},
     "output_type": "display_data"
    }
   ],
   "source": [
    "sns.boxplot(x = df5.AreaTotalQueimada)\n",
    "plt.xlim(0,5)"
   ]
  },
  {
   "cell_type": "code",
   "execution_count": 29,
   "metadata": {},
   "outputs": [
    {
     "data": {
      "image/png": "[encoded data removed]",
      "text/plain": [
       "<Figure size 864x360 with 1 Axes>"
      ]
     },
     "metadata": {},
     "output_type": "display_data"
    }
   ],
   "source": [
    "plt.subplots(figsize = (12, 5))\n",
    "ax = sns.histplot(x = df5.AreaTotalQueimada, binwidth = 0.1 , kde = True)\n",
    "ax.lines[0].set_color('crimson')\n",
    "plt.xlim(0,5)\n",
    "plt.grid()\n"
   ]
  },
  {
   "cell_type": "markdown",
   "metadata": {},
   "source": [
    "**Conclusions about <font color='royalblue'>AreaTotalQueimada</font>:**\n",
    "\n",
    "- Is this variable, the mean is truly afected by the extreme values, which does not give us a trustworthy way to analyse this variable.\n",
    "- By the caculating the third quartile is possible to confirm that 75% of the fires has less than 0.5 acres burnt, which give a better idea of how much area was burnt.\n",
    "- On the other side, 25% of the fires coutributed to an huge increase of total burnt area.\n"
   ]
  },
  {
   "cell_type": "markdown",
   "metadata": {},
   "source": [
    "#### <font color='royalblue'>DataAlerta & HoraAlerta</font><a class=\"anchor\" id=\"dh\"></a>"
   ]
  },
  {
   "cell_type": "markdown",
   "metadata": {},
   "source": [
    "**NOTE:** This variables will be treated together, because it represents that same for this study goal. In this case, I want to extract and analyse when occur the most fires"
   ]
  },
  {
   "cell_type": "code",
   "execution_count": 30,
   "metadata": {},
   "outputs": [
    {
     "data": {
      "text/html": [
       "<div>\n",
       "<style scoped>\n",
       "    .dataframe tbody tr th:only-of-type {\n",
       "        vertical-align: middle;\n",
       "    }\n",
       "\n",
       "    .dataframe tbody tr th {\n",
       "        vertical-align: top;\n",
       "    }\n",
       "\n",
       "    .dataframe thead th {\n",
       "        text-align: right;\n",
       "    }\n",
       "</style>\n",
       "<table border=\"1\" class=\"dataframe\">\n",
       "  <thead>\n",
       "    <tr style=\"text-align: right;\">\n",
       "      <th></th>\n",
       "      <th>count</th>\n",
       "      <th>unique</th>\n",
       "      <th>top</th>\n",
       "      <th>freq</th>\n",
       "      <th>first</th>\n",
       "      <th>last</th>\n",
       "    </tr>\n",
       "    <tr>\n",
       "      <th>DataAlerta</th>\n",
       "      <th></th>\n",
       "      <th></th>\n",
       "      <th></th>\n",
       "      <th></th>\n",
       "      <th></th>\n",
       "      <th></th>\n",
       "    </tr>\n",
       "  </thead>\n",
       "  <tbody>\n",
       "    <tr>\n",
       "      <th>2015-01</th>\n",
       "      <td>300</td>\n",
       "      <td>299</td>\n",
       "      <td>2015-01-02 12:30:00</td>\n",
       "      <td>2</td>\n",
       "      <td>2015-01-01 00:08:00</td>\n",
       "      <td>2015-01-31 11:27:00</td>\n",
       "    </tr>\n",
       "    <tr>\n",
       "      <th>2015-02</th>\n",
       "      <td>391</td>\n",
       "      <td>381</td>\n",
       "      <td>2015-02-22 14:20:00</td>\n",
       "      <td>3</td>\n",
       "      <td>2015-02-01 16:22:00</td>\n",
       "      <td>2015-02-28 21:30:00</td>\n",
       "    </tr>\n",
       "    <tr>\n",
       "      <th>2015-03</th>\n",
       "      <td>2638</td>\n",
       "      <td>2446</td>\n",
       "      <td>2015-03-23 12:49:00</td>\n",
       "      <td>3</td>\n",
       "      <td>2015-03-01 04:01:00</td>\n",
       "      <td>2015-03-31 23:57:00</td>\n",
       "    </tr>\n",
       "    <tr>\n",
       "      <th>2015-04</th>\n",
       "      <td>1865</td>\n",
       "      <td>1715</td>\n",
       "      <td>2015-04-02 14:05:00</td>\n",
       "      <td>4</td>\n",
       "      <td>2015-04-01 00:28:00</td>\n",
       "      <td>2015-04-30 20:17:00</td>\n",
       "    </tr>\n",
       "    <tr>\n",
       "      <th>2015-05</th>\n",
       "      <td>1943</td>\n",
       "      <td>1842</td>\n",
       "      <td>2015-05-28 13:45:00</td>\n",
       "      <td>3</td>\n",
       "      <td>2015-05-01 00:57:00</td>\n",
       "      <td>2015-05-31 23:44:00</td>\n",
       "    </tr>\n",
       "    <tr>\n",
       "      <th>2015-06</th>\n",
       "      <td>2588</td>\n",
       "      <td>2454</td>\n",
       "      <td>2015-06-04 14:10:00</td>\n",
       "      <td>3</td>\n",
       "      <td>2015-06-01 00:40:00</td>\n",
       "      <td>2015-06-30 23:59:00</td>\n",
       "    </tr>\n",
       "    <tr>\n",
       "      <th>2015-07</th>\n",
       "      <td>4345</td>\n",
       "      <td>4046</td>\n",
       "      <td>2015-07-11 17:44:00</td>\n",
       "      <td>4</td>\n",
       "      <td>2015-07-01 00:09:00</td>\n",
       "      <td>2015-07-31 23:23:00</td>\n",
       "    </tr>\n",
       "    <tr>\n",
       "      <th>2015-08</th>\n",
       "      <td>4677</td>\n",
       "      <td>4275</td>\n",
       "      <td>2015-08-10 15:40:00</td>\n",
       "      <td>4</td>\n",
       "      <td>2015-08-01 00:23:00</td>\n",
       "      <td>2015-08-31 23:40:00</td>\n",
       "    </tr>\n",
       "    <tr>\n",
       "      <th>2015-09</th>\n",
       "      <td>2730</td>\n",
       "      <td>2588</td>\n",
       "      <td>2015-09-26 23:22:00</td>\n",
       "      <td>3</td>\n",
       "      <td>2015-09-01 00:46:00</td>\n",
       "      <td>2015-09-30 23:27:00</td>\n",
       "    </tr>\n",
       "    <tr>\n",
       "      <th>2015-10</th>\n",
       "      <td>1046</td>\n",
       "      <td>988</td>\n",
       "      <td>2015-10-01 18:45:00</td>\n",
       "      <td>3</td>\n",
       "      <td>2015-10-01 00:16:00</td>\n",
       "      <td>2015-10-31 15:41:00</td>\n",
       "    </tr>\n",
       "    <tr>\n",
       "      <th>2015-11</th>\n",
       "      <td>299</td>\n",
       "      <td>296</td>\n",
       "      <td>2015-11-23 18:15:00</td>\n",
       "      <td>2</td>\n",
       "      <td>2015-11-01 14:09:00</td>\n",
       "      <td>2015-11-30 23:05:00</td>\n",
       "    </tr>\n",
       "    <tr>\n",
       "      <th>2015-12</th>\n",
       "      <td>353</td>\n",
       "      <td>345</td>\n",
       "      <td>2015-12-19 17:45:00</td>\n",
       "      <td>2</td>\n",
       "      <td>2015-12-01 09:07:00</td>\n",
       "      <td>2015-12-30 11:44:00</td>\n",
       "    </tr>\n",
       "  </tbody>\n",
       "</table>\n",
       "</div>"
      ],
      "text/plain": [
       "           count unique                  top freq                first  \\\n",
       "DataAlerta                                                               \n",
       "2015-01      300    299  2015-01-02 12:30:00    2  2015-01-01 00:08:00   \n",
       "2015-02      391    381  2015-02-22 14:20:00    3  2015-02-01 16:22:00   \n",
       "2015-03     2638   2446  2015-03-23 12:49:00    3  2015-03-01 04:01:00   \n",
       "2015-04     1865   1715  2015-04-02 14:05:00    4  2015-04-01 00:28:00   \n",
       "2015-05     1943   1842  2015-05-28 13:45:00    3  2015-05-01 00:57:00   \n",
       "2015-06     2588   2454  2015-06-04 14:10:00    3  2015-06-01 00:40:00   \n",
       "2015-07     4345   4046  2015-07-11 17:44:00    4  2015-07-01 00:09:00   \n",
       "2015-08     4677   4275  2015-08-10 15:40:00    4  2015-08-01 00:23:00   \n",
       "2015-09     2730   2588  2015-09-26 23:22:00    3  2015-09-01 00:46:00   \n",
       "2015-10     1046    988  2015-10-01 18:45:00    3  2015-10-01 00:16:00   \n",
       "2015-11      299    296  2015-11-23 18:15:00    2  2015-11-01 14:09:00   \n",
       "2015-12      353    345  2015-12-19 17:45:00    2  2015-12-01 09:07:00   \n",
       "\n",
       "                           last  \n",
       "DataAlerta                       \n",
       "2015-01     2015-01-31 11:27:00  \n",
       "2015-02     2015-02-28 21:30:00  \n",
       "2015-03     2015-03-31 23:57:00  \n",
       "2015-04     2015-04-30 20:17:00  \n",
       "2015-05     2015-05-31 23:44:00  \n",
       "2015-06     2015-06-30 23:59:00  \n",
       "2015-07     2015-07-31 23:23:00  \n",
       "2015-08     2015-08-31 23:40:00  \n",
       "2015-09     2015-09-30 23:27:00  \n",
       "2015-10     2015-10-31 15:41:00  \n",
       "2015-11     2015-11-30 23:05:00  \n",
       "2015-12     2015-12-30 11:44:00  "
      ]
     },
     "execution_count": 30,
     "metadata": {},
     "output_type": "execute_result"
    }
   ],
   "source": [
    "df['DataAlerta'].groupby(df.DataAlerta.dt.to_period(\"M\")).describe()"
   ]
  },
  {
   "cell_type": "code",
   "execution_count": 31,
   "metadata": {},
   "outputs": [
    {
     "data": {
      "image/png": "[encoded data removed]",
      "text/plain": [
       "<Figure size 864x432 with 1 Axes>"
      ]
     },
     "metadata": {},
     "output_type": "display_data"
    }
   ],
   "source": [
    "count_dataAlerta = df['DataAlerta'].groupby(df.DataAlerta.dt.to_period(\"M\")).agg('count')\n",
    "\n",
    "months = [\"janeiro\", \"fevereiro\", \"março\", \"abril\", \"maio\", \"junho\", \"julho\", \"agosto\",\"setembro\", \"outubro\", \"novembro\", \"dezembro\"]\n",
    "fig = plt.figure(figsize=(12,6))\n",
    "ax = fig.add_subplot()\n",
    "plt.plot( months, count_dataAlerta,  marker='o', markerfacecolor='red', markersize=10, color='#FFE000', linewidth=2)\n",
    "listValues =count_dataAlerta.tolist()\n",
    "plt.xlabel('Meses')\n",
    "plt.ylabel('Nº de incêndios')\n",
    "plt.title('Total de incêndios por mês', fontsize=15)\n",
    "plt.ylim(0,5300)\n",
    "ax.grid()\n",
    "count = 1\n",
    "\n",
    "\n",
    "\n",
    "for i in listValues:\n",
    "    ax.annotate(listValues[count-1], xy=(count-1.4, i+200))\n",
    "    count += 1 \n",
    "plt.show()"
   ]
  },
  {
   "cell_type": "code",
   "execution_count": 32,
   "metadata": {},
   "outputs": [],
   "source": [
    "h1 = []\n",
    "for x in df[\"HoraAlerta\"]:\n",
    "    a = float(x.hour)\n",
    "    h1.append(a)\n",
    "df6 = pd.DataFrame(h1, columns =['HoraAlerta'])\n",
    "\n",
    "data2 = df6.groupby(['HoraAlerta']).size().reset_index(name='counts')"
   ]
  },
  {
   "cell_type": "code",
   "execution_count": 33,
   "metadata": {},
   "outputs": [
    {
     "data": {
      "image/png": "[encoded data removed]",
      "text/plain": [
       "<Figure size 864x432 with 1 Axes>"
      ]
     },
     "metadata": {},
     "output_type": "display_data"
    }
   ],
   "source": [
    "data3 = pd.Series(data2['counts'])\n",
    "fig = plt.figure(figsize=(12,6))\n",
    "ax = fig.add_subplot()\n",
    "ax.set_xlim([-0.1,23.1])\n",
    "ax.set_ylim(0,2500)\n",
    "ax.plot(data2[\"HoraAlerta\"], data2[\"counts\"], 'g-o', markerfacecolor='red', color='#FFE000', linewidth=2)\n",
    "ax.set_ylabel('Total de incêndios')\n",
    "ax.set_xlabel('Horas')\n",
    "ax.set_title('Total de incêndios por hora', fontsize=15)\n",
    "ax.grid()\n",
    "\n",
    "\n",
    "\n",
    "listValues =data3.tolist()\n",
    "count = 1\n",
    "\n",
    "for i in listValues:\n",
    "    ax.annotate(listValues[count-1], xy=(count-1.4, i+50))\n",
    "    count += 1"
   ]
  },
  {
   "cell_type": "markdown",
   "metadata": {},
   "source": [
    "**Conclusions about <font color='royalblue'>DataAlerta & HoraAlerta</font>:**\n",
    "\n",
    "- Most of the fires ocur in summer, as I expected.\n",
    "- March has a high value, although I don't have a evidence to explain why.\n",
    "- Most of the fires started between 12h and 16h, which is a result that I was not expect. This result perhaps can be explained through the higher temperatures that ocurs in that period of the day."
   ]
  },
  {
   "cell_type": "markdown",
   "metadata": {},
   "source": [
    "#### <font color='darkorange'>Tipo</font><a class=\"anchor\" id=\"tipo\"></a>"
   ]
  },
  {
   "cell_type": "code",
   "execution_count": 34,
   "metadata": {},
   "outputs": [
    {
     "data": {
      "text/plain": [
       "Tipo\n",
       "Agrícola         4044\n",
       "Falso Alarme     2216\n",
       "Florestal       15108\n",
       "Queimada          608\n",
       "Name: Tipo, dtype: int64"
      ]
     },
     "execution_count": 34,
     "metadata": {},
     "output_type": "execute_result"
    }
   ],
   "source": [
    "df3.groupby('Tipo')['Tipo'].count()"
   ]
  },
  {
   "cell_type": "code",
   "execution_count": 35,
   "metadata": {},
   "outputs": [
    {
     "data": {
      "text/plain": [
       "(0.0, 100.0)"
      ]
     },
     "execution_count": 35,
     "metadata": {},
     "output_type": "execute_result"
    },
    {
     "data": {
      "image/png": "[encoded data removed]",
      "text/plain": [
       "<Figure size 1080x576 with 1 Axes>"
      ]
     },
     "metadata": {},
     "output_type": "display_data"
    }
   ],
   "source": [
    "fig, axes = plt.subplots(figsize = (15, 8))\n",
    "sns.histplot(x = df3.Tipo, stat='percent', hue=df.Tipo, palette='Dark2', edgecolor = 'black')\n",
    "plt.grid()\n",
    "plt.ylim(0,100)\n"
   ]
  },
  {
   "cell_type": "markdown",
   "metadata": {},
   "source": [
    "**Conclusions about <font color='darkorange'>Tipo</font>:**\n",
    "\n",
    "- More than 60% of the fires were Florestal fires.\n",
    "- Queimadas only represent a minimal percentage of total fires, although sometimes media transmits the opposite."
   ]
  },
  {
   "cell_type": "markdown",
   "metadata": {},
   "source": [
    "#### <font color='darkorange'>Distrito</font><a class=\"anchor\" id=\"distrito\"></a>"
   ]
  },
  {
   "cell_type": "code",
   "execution_count": 36,
   "metadata": {},
   "outputs": [
    {
     "data": {
      "text/plain": [
       "count     21976\n",
       "unique       18\n",
       "top       Porto\n",
       "freq       4391\n",
       "Name: Distrito, dtype: object"
      ]
     },
     "execution_count": 36,
     "metadata": {},
     "output_type": "execute_result"
    }
   ],
   "source": [
    "df3['Distrito'].describe()"
   ]
  },
  {
   "cell_type": "code",
   "execution_count": 37,
   "metadata": {},
   "outputs": [
    {
     "data": {
      "image/png": "[encoded data removed]",
      "text/plain": [
       "<Figure size 1080x576 with 1 Axes>"
      ]
     },
     "metadata": {},
     "output_type": "display_data"
    }
   ],
   "source": [
    "fig, axes = plt.subplots(figsize = (15, 8))\n",
    "count_dist=df3.groupby('Distrito')['Distrito'].count()\n",
    "count_dist = count_dist.sort_values(ascending=False)\n",
    "ax = count_dist.plot.bar(color=\"darkslategray\",ec=\"black\")\n",
    "ax.set_ylabel('Número de incêndios')\n",
    "ax.set_title('Número de incêndios por distrito',fontsize=15)\n",
    "ax.grid()"
   ]
  },
  {
   "cell_type": "markdown",
   "metadata": {},
   "source": [
    "**Conclusions about <font color='darkorange'>Distrito</font>:**\n",
    "\n",
    "- Porto was the most affected district, almost two times more than the others.\n",
    "- Districts on coast were the most affected - Top 5: Porto, Braga, Lisboa, Aveiro and Viana do Castelo."
   ]
  },
  {
   "cell_type": "markdown",
   "metadata": {},
   "source": [
    "### Multivariate analysis<a class=\"anchor\" id=\"multi\"></a>"
   ]
  },
  {
   "cell_type": "markdown",
   "metadata": {},
   "source": [
    "In this part, I will analyse the relation between the chosen variables."
   ]
  },
  {
   "cell_type": "code",
   "execution_count": 38,
   "metadata": {},
   "outputs": [
    {
     "data": {
      "text/html": [
       "<div>\n",
       "<style scoped>\n",
       "    .dataframe tbody tr th:only-of-type {\n",
       "        vertical-align: middle;\n",
       "    }\n",
       "\n",
       "    .dataframe tbody tr th {\n",
       "        vertical-align: top;\n",
       "    }\n",
       "\n",
       "    .dataframe thead th {\n",
       "        text-align: right;\n",
       "    }\n",
       "</style>\n",
       "<table border=\"1\" class=\"dataframe\">\n",
       "  <thead>\n",
       "    <tr style=\"text-align: right;\">\n",
       "      <th></th>\n",
       "      <th>Distrito</th>\n",
       "      <th>TempoAcao</th>\n",
       "    </tr>\n",
       "  </thead>\n",
       "  <tbody>\n",
       "    <tr>\n",
       "      <th>11</th>\n",
       "      <td>Porto</td>\n",
       "      <td>10.238301</td>\n",
       "    </tr>\n",
       "    <tr>\n",
       "      <th>13</th>\n",
       "      <td>Setúbal</td>\n",
       "      <td>10.380952</td>\n",
       "    </tr>\n",
       "    <tr>\n",
       "      <th>5</th>\n",
       "      <td>Coimbra</td>\n",
       "      <td>11.496721</td>\n",
       "    </tr>\n",
       "    <tr>\n",
       "      <th>2</th>\n",
       "      <td>Braga</td>\n",
       "      <td>11.845084</td>\n",
       "    </tr>\n",
       "    <tr>\n",
       "      <th>0</th>\n",
       "      <td>Aveiro</td>\n",
       "      <td>12.290850</td>\n",
       "    </tr>\n",
       "    <tr>\n",
       "      <th>14</th>\n",
       "      <td>Viana do Castelo</td>\n",
       "      <td>12.505036</td>\n",
       "    </tr>\n",
       "    <tr>\n",
       "      <th>12</th>\n",
       "      <td>Santarém</td>\n",
       "      <td>12.597502</td>\n",
       "    </tr>\n",
       "    <tr>\n",
       "      <th>8</th>\n",
       "      <td>Leiria</td>\n",
       "      <td>12.909200</td>\n",
       "    </tr>\n",
       "    <tr>\n",
       "      <th>6</th>\n",
       "      <td>Faro</td>\n",
       "      <td>13.935733</td>\n",
       "    </tr>\n",
       "    <tr>\n",
       "      <th>7</th>\n",
       "      <td>Guarda</td>\n",
       "      <td>14.122727</td>\n",
       "    </tr>\n",
       "    <tr>\n",
       "      <th>4</th>\n",
       "      <td>Castelo Branco</td>\n",
       "      <td>15.111321</td>\n",
       "    </tr>\n",
       "    <tr>\n",
       "      <th>10</th>\n",
       "      <td>Portalegre</td>\n",
       "      <td>15.282511</td>\n",
       "    </tr>\n",
       "    <tr>\n",
       "      <th>3</th>\n",
       "      <td>Bragança</td>\n",
       "      <td>15.467262</td>\n",
       "    </tr>\n",
       "    <tr>\n",
       "      <th>9</th>\n",
       "      <td>Lisboa</td>\n",
       "      <td>16.043128</td>\n",
       "    </tr>\n",
       "    <tr>\n",
       "      <th>17</th>\n",
       "      <td>Évora</td>\n",
       "      <td>16.596429</td>\n",
       "    </tr>\n",
       "    <tr>\n",
       "      <th>16</th>\n",
       "      <td>Viseu</td>\n",
       "      <td>16.701258</td>\n",
       "    </tr>\n",
       "    <tr>\n",
       "      <th>15</th>\n",
       "      <td>Vila Real</td>\n",
       "      <td>18.889151</td>\n",
       "    </tr>\n",
       "    <tr>\n",
       "      <th>1</th>\n",
       "      <td>Beja</td>\n",
       "      <td>19.376147</td>\n",
       "    </tr>\n",
       "  </tbody>\n",
       "</table>\n",
       "</div>"
      ],
      "text/plain": [
       "            Distrito  TempoAcao\n",
       "11             Porto  10.238301\n",
       "13           Setúbal  10.380952\n",
       "5            Coimbra  11.496721\n",
       "2              Braga  11.845084\n",
       "0             Aveiro  12.290850\n",
       "14  Viana do Castelo  12.505036\n",
       "12          Santarém  12.597502\n",
       "8             Leiria  12.909200\n",
       "6               Faro  13.935733\n",
       "7             Guarda  14.122727\n",
       "4     Castelo Branco  15.111321\n",
       "10        Portalegre  15.282511\n",
       "3           Bragança  15.467262\n",
       "9             Lisboa  16.043128\n",
       "17             Évora  16.596429\n",
       "16             Viseu  16.701258\n",
       "15         Vila Real  18.889151\n",
       "1               Beja  19.376147"
      ]
     },
     "execution_count": 38,
     "metadata": {},
     "output_type": "execute_result"
    }
   ],
   "source": [
    "tempoacao = df5.groupby(['Distrito']).TempoAcao.mean().reset_index()\n",
    "tempoacao.sort_values('TempoAcao')"
   ]
  },
  {
   "cell_type": "code",
   "execution_count": 39,
   "metadata": {},
   "outputs": [
    {
     "data": {
      "text/plain": [
       "(0.0, 80.0)"
      ]
     },
     "execution_count": 39,
     "metadata": {},
     "output_type": "execute_result"
    },
    {
     "data": {
      "image/png": "[encoded data removed]",
      "text/plain": [
       "<Figure size 1440x720 with 1 Axes>"
      ]
     },
     "metadata": {},
     "output_type": "display_data"
    }
   ],
   "source": [
    "sns.boxplot(y = df5.Distrito, x = df5.TempoAcao)\n",
    "\n",
    "plt.xlabel('Tempo de Ação (min)')\n",
    "plt.ylabel('Distrito')\n",
    "plt.title('Tempo de Ação por distrito',fontsize=15)\n",
    "plt.xlim(0,80)"
   ]
  },
  {
   "cell_type": "markdown",
   "metadata": {},
   "source": [
    "Taking a closer look in this two variables, is possible to confirm that besides Porto has the higher number of fires, the firefighters took less time to reach the fire and fight it. Districts like Viseu, Vila Real and Beja, which are in the interior, have higher TempoAcao. This perhaps can be explained by the lack of accessibility to the local where the fire occurs. "
   ]
  },
  {
   "cell_type": "code",
   "execution_count": 40,
   "metadata": {},
   "outputs": [
    {
     "data": {
      "text/html": [
       "<div>\n",
       "<style scoped>\n",
       "    .dataframe tbody tr th:only-of-type {\n",
       "        vertical-align: middle;\n",
       "    }\n",
       "\n",
       "    .dataframe tbody tr th {\n",
       "        vertical-align: top;\n",
       "    }\n",
       "\n",
       "    .dataframe thead th {\n",
       "        text-align: right;\n",
       "    }\n",
       "</style>\n",
       "<table border=\"1\" class=\"dataframe\">\n",
       "  <thead>\n",
       "    <tr style=\"text-align: right;\">\n",
       "      <th></th>\n",
       "      <th>Tipo</th>\n",
       "      <th>TempoAcao</th>\n",
       "    </tr>\n",
       "  </thead>\n",
       "  <tbody>\n",
       "    <tr>\n",
       "      <th>0</th>\n",
       "      <td>Agrícola</td>\n",
       "      <td>12.911831</td>\n",
       "    </tr>\n",
       "    <tr>\n",
       "      <th>1</th>\n",
       "      <td>Florestal</td>\n",
       "      <td>13.408656</td>\n",
       "    </tr>\n",
       "    <tr>\n",
       "      <th>2</th>\n",
       "      <td>Queimada</td>\n",
       "      <td>13.790738</td>\n",
       "    </tr>\n",
       "  </tbody>\n",
       "</table>\n",
       "</div>"
      ],
      "text/plain": [
       "        Tipo  TempoAcao\n",
       "0   Agrícola  12.911831\n",
       "1  Florestal  13.408656\n",
       "2   Queimada  13.790738"
      ]
     },
     "execution_count": 40,
     "metadata": {},
     "output_type": "execute_result"
    }
   ],
   "source": [
    "tempoacao = df5.groupby(['Tipo']).TempoAcao.mean().reset_index()\n",
    "tempoacao.sort_values('TempoAcao')"
   ]
  },
  {
   "cell_type": "code",
   "execution_count": 41,
   "metadata": {},
   "outputs": [
    {
     "data": {
      "text/plain": [
       "(0.0, 80.0)"
      ]
     },
     "execution_count": 41,
     "metadata": {},
     "output_type": "execute_result"
    },
    {
     "data": {
      "image/png": "[encoded data removed]",
      "text/plain": [
       "<Figure size 1440x720 with 1 Axes>"
      ]
     },
     "metadata": {},
     "output_type": "display_data"
    }
   ],
   "source": [
    "sns.boxplot(y = df5.Tipo, x = df5.TempoAcao)\n",
    "plt.xlabel('Tempo de Ação (min)')\n",
    "plt.ylabel('Tipo de Incêndio')\n",
    "plt.title('Tempo de Ação por tipo de incêndio',fontsize=15)\n",
    "plt.xlim(0,80)"
   ]
  },
  {
   "cell_type": "markdown",
   "metadata": {},
   "source": [
    "This results confirms the previous ones, because we can see that Florestal fires took, on average, more time to be fighted although it median is lower than the others. Since we have zones with extremely difficult acess, fires that ocurred in that zones, increased the mean."
   ]
  },
  {
   "cell_type": "code",
   "execution_count": 42,
   "metadata": {},
   "outputs": [
    {
     "data": {
      "text/html": [
       "<div>\n",
       "<style scoped>\n",
       "    .dataframe tbody tr th:only-of-type {\n",
       "        vertical-align: middle;\n",
       "    }\n",
       "\n",
       "    .dataframe tbody tr th {\n",
       "        vertical-align: top;\n",
       "    }\n",
       "\n",
       "    .dataframe thead th {\n",
       "        text-align: right;\n",
       "    }\n",
       "</style>\n",
       "<table border=\"1\" class=\"dataframe\">\n",
       "  <thead>\n",
       "    <tr style=\"text-align: right;\">\n",
       "      <th></th>\n",
       "      <th>Distrito</th>\n",
       "      <th>Tipo</th>\n",
       "      <th>count</th>\n",
       "    </tr>\n",
       "  </thead>\n",
       "  <tbody>\n",
       "    <tr>\n",
       "      <th>30</th>\n",
       "      <td>Porto</td>\n",
       "      <td>Florestal</td>\n",
       "      <td>3717</td>\n",
       "    </tr>\n",
       "    <tr>\n",
       "      <th>6</th>\n",
       "      <td>Braga</td>\n",
       "      <td>Florestal</td>\n",
       "      <td>1787</td>\n",
       "    </tr>\n",
       "    <tr>\n",
       "      <th>42</th>\n",
       "      <td>Vila Real</td>\n",
       "      <td>Florestal</td>\n",
       "      <td>1229</td>\n",
       "    </tr>\n",
       "    <tr>\n",
       "      <th>39</th>\n",
       "      <td>Viana do Castelo</td>\n",
       "      <td>Florestal</td>\n",
       "      <td>1123</td>\n",
       "    </tr>\n",
       "    <tr>\n",
       "      <th>45</th>\n",
       "      <td>Viseu</td>\n",
       "      <td>Florestal</td>\n",
       "      <td>1122</td>\n",
       "    </tr>\n",
       "    <tr>\n",
       "      <th>25</th>\n",
       "      <td>Lisboa</td>\n",
       "      <td>Florestal</td>\n",
       "      <td>1009</td>\n",
       "    </tr>\n",
       "    <tr>\n",
       "      <th>1</th>\n",
       "      <td>Aveiro</td>\n",
       "      <td>Florestal</td>\n",
       "      <td>915</td>\n",
       "    </tr>\n",
       "    <tr>\n",
       "      <th>36</th>\n",
       "      <td>Setúbal</td>\n",
       "      <td>Florestal</td>\n",
       "      <td>756</td>\n",
       "    </tr>\n",
       "    <tr>\n",
       "      <th>9</th>\n",
       "      <td>Bragança</td>\n",
       "      <td>Florestal</td>\n",
       "      <td>620</td>\n",
       "    </tr>\n",
       "    <tr>\n",
       "      <th>24</th>\n",
       "      <td>Lisboa</td>\n",
       "      <td>Agrícola</td>\n",
       "      <td>609</td>\n",
       "    </tr>\n",
       "    <tr>\n",
       "      <th>33</th>\n",
       "      <td>Santarém</td>\n",
       "      <td>Florestal</td>\n",
       "      <td>586</td>\n",
       "    </tr>\n",
       "    <tr>\n",
       "      <th>22</th>\n",
       "      <td>Leiria</td>\n",
       "      <td>Florestal</td>\n",
       "      <td>467</td>\n",
       "    </tr>\n",
       "    <tr>\n",
       "      <th>32</th>\n",
       "      <td>Santarém</td>\n",
       "      <td>Agrícola</td>\n",
       "      <td>450</td>\n",
       "    </tr>\n",
       "    <tr>\n",
       "      <th>11</th>\n",
       "      <td>Castelo Branco</td>\n",
       "      <td>Florestal</td>\n",
       "      <td>434</td>\n",
       "    </tr>\n",
       "    <tr>\n",
       "      <th>19</th>\n",
       "      <td>Guarda</td>\n",
       "      <td>Florestal</td>\n",
       "      <td>419</td>\n",
       "    </tr>\n",
       "    <tr>\n",
       "      <th>21</th>\n",
       "      <td>Leiria</td>\n",
       "      <td>Agrícola</td>\n",
       "      <td>369</td>\n",
       "    </tr>\n",
       "    <tr>\n",
       "      <th>13</th>\n",
       "      <td>Coimbra</td>\n",
       "      <td>Florestal</td>\n",
       "      <td>315</td>\n",
       "    </tr>\n",
       "    <tr>\n",
       "      <th>0</th>\n",
       "      <td>Aveiro</td>\n",
       "      <td>Agrícola</td>\n",
       "      <td>280</td>\n",
       "    </tr>\n",
       "    <tr>\n",
       "      <th>12</th>\n",
       "      <td>Coimbra</td>\n",
       "      <td>Agrícola</td>\n",
       "      <td>277</td>\n",
       "    </tr>\n",
       "    <tr>\n",
       "      <th>3</th>\n",
       "      <td>Beja</td>\n",
       "      <td>Agrícola</td>\n",
       "      <td>255</td>\n",
       "    </tr>\n",
       "    <tr>\n",
       "      <th>35</th>\n",
       "      <td>Setúbal</td>\n",
       "      <td>Agrícola</td>\n",
       "      <td>251</td>\n",
       "    </tr>\n",
       "    <tr>\n",
       "      <th>29</th>\n",
       "      <td>Porto</td>\n",
       "      <td>Agrícola</td>\n",
       "      <td>211</td>\n",
       "    </tr>\n",
       "    <tr>\n",
       "      <th>47</th>\n",
       "      <td>Évora</td>\n",
       "      <td>Agrícola</td>\n",
       "      <td>204</td>\n",
       "    </tr>\n",
       "    <tr>\n",
       "      <th>15</th>\n",
       "      <td>Faro</td>\n",
       "      <td>Agrícola</td>\n",
       "      <td>199</td>\n",
       "    </tr>\n",
       "    <tr>\n",
       "      <th>5</th>\n",
       "      <td>Braga</td>\n",
       "      <td>Agrícola</td>\n",
       "      <td>195</td>\n",
       "    </tr>\n",
       "    <tr>\n",
       "      <th>16</th>\n",
       "      <td>Faro</td>\n",
       "      <td>Florestal</td>\n",
       "      <td>186</td>\n",
       "    </tr>\n",
       "    <tr>\n",
       "      <th>20</th>\n",
       "      <td>Guarda</td>\n",
       "      <td>Queimada</td>\n",
       "      <td>159</td>\n",
       "    </tr>\n",
       "    <tr>\n",
       "      <th>27</th>\n",
       "      <td>Portalegre</td>\n",
       "      <td>Agrícola</td>\n",
       "      <td>157</td>\n",
       "    </tr>\n",
       "    <tr>\n",
       "      <th>38</th>\n",
       "      <td>Viana do Castelo</td>\n",
       "      <td>Agrícola</td>\n",
       "      <td>149</td>\n",
       "    </tr>\n",
       "    <tr>\n",
       "      <th>26</th>\n",
       "      <td>Lisboa</td>\n",
       "      <td>Queimada</td>\n",
       "      <td>121</td>\n",
       "    </tr>\n",
       "    <tr>\n",
       "      <th>40</th>\n",
       "      <td>Viana do Castelo</td>\n",
       "      <td>Queimada</td>\n",
       "      <td>118</td>\n",
       "    </tr>\n",
       "    <tr>\n",
       "      <th>44</th>\n",
       "      <td>Viseu</td>\n",
       "      <td>Agrícola</td>\n",
       "      <td>115</td>\n",
       "    </tr>\n",
       "    <tr>\n",
       "      <th>10</th>\n",
       "      <td>Castelo Branco</td>\n",
       "      <td>Agrícola</td>\n",
       "      <td>96</td>\n",
       "    </tr>\n",
       "    <tr>\n",
       "      <th>18</th>\n",
       "      <td>Guarda</td>\n",
       "      <td>Agrícola</td>\n",
       "      <td>82</td>\n",
       "    </tr>\n",
       "    <tr>\n",
       "      <th>4</th>\n",
       "      <td>Beja</td>\n",
       "      <td>Florestal</td>\n",
       "      <td>72</td>\n",
       "    </tr>\n",
       "    <tr>\n",
       "      <th>28</th>\n",
       "      <td>Portalegre</td>\n",
       "      <td>Florestal</td>\n",
       "      <td>66</td>\n",
       "    </tr>\n",
       "    <tr>\n",
       "      <th>8</th>\n",
       "      <td>Bragança</td>\n",
       "      <td>Agrícola</td>\n",
       "      <td>52</td>\n",
       "    </tr>\n",
       "    <tr>\n",
       "      <th>49</th>\n",
       "      <td>Évora</td>\n",
       "      <td>Queimada</td>\n",
       "      <td>43</td>\n",
       "    </tr>\n",
       "    <tr>\n",
       "      <th>46</th>\n",
       "      <td>Viseu</td>\n",
       "      <td>Queimada</td>\n",
       "      <td>35</td>\n",
       "    </tr>\n",
       "    <tr>\n",
       "      <th>48</th>\n",
       "      <td>Évora</td>\n",
       "      <td>Florestal</td>\n",
       "      <td>33</td>\n",
       "    </tr>\n",
       "    <tr>\n",
       "      <th>7</th>\n",
       "      <td>Braga</td>\n",
       "      <td>Queimada</td>\n",
       "      <td>32</td>\n",
       "    </tr>\n",
       "    <tr>\n",
       "      <th>41</th>\n",
       "      <td>Vila Real</td>\n",
       "      <td>Agrícola</td>\n",
       "      <td>30</td>\n",
       "    </tr>\n",
       "    <tr>\n",
       "      <th>2</th>\n",
       "      <td>Aveiro</td>\n",
       "      <td>Queimada</td>\n",
       "      <td>29</td>\n",
       "    </tr>\n",
       "    <tr>\n",
       "      <th>14</th>\n",
       "      <td>Coimbra</td>\n",
       "      <td>Queimada</td>\n",
       "      <td>18</td>\n",
       "    </tr>\n",
       "    <tr>\n",
       "      <th>43</th>\n",
       "      <td>Vila Real</td>\n",
       "      <td>Queimada</td>\n",
       "      <td>13</td>\n",
       "    </tr>\n",
       "    <tr>\n",
       "      <th>34</th>\n",
       "      <td>Santarém</td>\n",
       "      <td>Queimada</td>\n",
       "      <td>5</td>\n",
       "    </tr>\n",
       "    <tr>\n",
       "      <th>17</th>\n",
       "      <td>Faro</td>\n",
       "      <td>Queimada</td>\n",
       "      <td>4</td>\n",
       "    </tr>\n",
       "    <tr>\n",
       "      <th>31</th>\n",
       "      <td>Porto</td>\n",
       "      <td>Queimada</td>\n",
       "      <td>4</td>\n",
       "    </tr>\n",
       "    <tr>\n",
       "      <th>37</th>\n",
       "      <td>Setúbal</td>\n",
       "      <td>Queimada</td>\n",
       "      <td>1</td>\n",
       "    </tr>\n",
       "    <tr>\n",
       "      <th>23</th>\n",
       "      <td>Leiria</td>\n",
       "      <td>Queimada</td>\n",
       "      <td>1</td>\n",
       "    </tr>\n",
       "  </tbody>\n",
       "</table>\n",
       "</div>"
      ],
      "text/plain": [
       "            Distrito       Tipo  count\n",
       "30             Porto  Florestal   3717\n",
       "6              Braga  Florestal   1787\n",
       "42         Vila Real  Florestal   1229\n",
       "39  Viana do Castelo  Florestal   1123\n",
       "45             Viseu  Florestal   1122\n",
       "25            Lisboa  Florestal   1009\n",
       "1             Aveiro  Florestal    915\n",
       "36           Setúbal  Florestal    756\n",
       "9           Bragança  Florestal    620\n",
       "24            Lisboa   Agrícola    609\n",
       "33          Santarém  Florestal    586\n",
       "22            Leiria  Florestal    467\n",
       "32          Santarém   Agrícola    450\n",
       "11    Castelo Branco  Florestal    434\n",
       "19            Guarda  Florestal    419\n",
       "21            Leiria   Agrícola    369\n",
       "13           Coimbra  Florestal    315\n",
       "0             Aveiro   Agrícola    280\n",
       "12           Coimbra   Agrícola    277\n",
       "3               Beja   Agrícola    255\n",
       "35           Setúbal   Agrícola    251\n",
       "29             Porto   Agrícola    211\n",
       "47             Évora   Agrícola    204\n",
       "15              Faro   Agrícola    199\n",
       "5              Braga   Agrícola    195\n",
       "16              Faro  Florestal    186\n",
       "20            Guarda   Queimada    159\n",
       "27        Portalegre   Agrícola    157\n",
       "38  Viana do Castelo   Agrícola    149\n",
       "26            Lisboa   Queimada    121\n",
       "40  Viana do Castelo   Queimada    118\n",
       "44             Viseu   Agrícola    115\n",
       "10    Castelo Branco   Agrícola     96\n",
       "18            Guarda   Agrícola     82\n",
       "4               Beja  Florestal     72\n",
       "28        Portalegre  Florestal     66\n",
       "8           Bragança   Agrícola     52\n",
       "49             Évora   Queimada     43\n",
       "46             Viseu   Queimada     35\n",
       "48             Évora  Florestal     33\n",
       "7              Braga   Queimada     32\n",
       "41         Vila Real   Agrícola     30\n",
       "2             Aveiro   Queimada     29\n",
       "14           Coimbra   Queimada     18\n",
       "43         Vila Real   Queimada     13\n",
       "34          Santarém   Queimada      5\n",
       "17              Faro   Queimada      4\n",
       "31             Porto   Queimada      4\n",
       "37           Setúbal   Queimada      1\n",
       "23            Leiria   Queimada      1"
      ]
     },
     "execution_count": 42,
     "metadata": {},
     "output_type": "execute_result"
    }
   ],
   "source": [
    "tipo = df5.groupby(['Distrito','Tipo']).size().reset_index(name='count')\n",
    "tipo.sort_values('count', ascending=False)"
   ]
  },
  {
   "cell_type": "code",
   "execution_count": 43,
   "metadata": {},
   "outputs": [
    {
     "data": {
      "image/png": "[encoded data removed]",
      "text/plain": [
       "<Figure size 1080x576 with 1 Axes>"
      ]
     },
     "metadata": {},
     "output_type": "display_data"
    }
   ],
   "source": [
    "districts = ['Aveiro', 'Beja', 'Braga', 'Bragança', 'Castelo Branco', 'Coimbra', 'Évora', 'Faro', 'Guarda', 'Leiria', 'Lisboa', 'Portalegre', 'Porto', 'Santarém', 'Setúbal', 'Viana do Castelo', 'Vila Real', 'Viseu']\n",
    "ax = pd.crosstab(df['Distrito'], df['Tipo']).apply(lambda r: r/r.sum()*100, axis=1)\n",
    "\n",
    "ax.loc[districts].plot(kind = 'bar', figsize=(15, 8), fontsize = 10, stacked=True, color = ['green', 'red', 'skyblue', 'orange'], rot=90)\n",
    "\n",
    "plt.legend(loc='center left',bbox_to_anchor=(1, 0.80), title=\"Tipo\")\n",
    "plt.xlabel('Distrito')\n",
    "plt.ylabel('Percentagem')\n",
    "plt.title('Distribuição do tipo de incêndio por distrito', fontsize = 15)\n",
    "plt.grid()\n"
   ]
  },
  {
   "cell_type": "markdown",
   "metadata": {},
   "source": [
    "Through the results, is possible to confirm that Beja, Evora and Portalegre had more fires of type Agrícola - >50%.\n",
    "Braga, Bragança and Vila Real, had almost all fires of type Florestal - >50%.\n",
    "Note for Aveiro and Faro, which had a high percentage of Falso Alarme."
   ]
  },
  {
   "cell_type": "code",
   "execution_count": 44,
   "metadata": {},
   "outputs": [
    {
     "data": {
      "text/html": [
       "<div>\n",
       "<style scoped>\n",
       "    .dataframe tbody tr th:only-of-type {\n",
       "        vertical-align: middle;\n",
       "    }\n",
       "\n",
       "    .dataframe tbody tr th {\n",
       "        vertical-align: top;\n",
       "    }\n",
       "\n",
       "    .dataframe thead th {\n",
       "        text-align: right;\n",
       "    }\n",
       "</style>\n",
       "<table border=\"1\" class=\"dataframe\">\n",
       "  <thead>\n",
       "    <tr style=\"text-align: right;\">\n",
       "      <th></th>\n",
       "      <th>Distrito</th>\n",
       "      <th>AreaTotalQueimada</th>\n",
       "    </tr>\n",
       "  </thead>\n",
       "  <tbody>\n",
       "    <tr>\n",
       "      <th>7</th>\n",
       "      <td>Guarda</td>\n",
       "      <td>12808.346764</td>\n",
       "    </tr>\n",
       "    <tr>\n",
       "      <th>14</th>\n",
       "      <td>Viana do Castelo</td>\n",
       "      <td>9856.387800</td>\n",
       "    </tr>\n",
       "    <tr>\n",
       "      <th>16</th>\n",
       "      <td>Viseu</td>\n",
       "      <td>6378.313400</td>\n",
       "    </tr>\n",
       "    <tr>\n",
       "      <th>2</th>\n",
       "      <td>Braga</td>\n",
       "      <td>5637.858200</td>\n",
       "    </tr>\n",
       "    <tr>\n",
       "      <th>15</th>\n",
       "      <td>Vila Real</td>\n",
       "      <td>5445.931800</td>\n",
       "    </tr>\n",
       "    <tr>\n",
       "      <th>3</th>\n",
       "      <td>Bragança</td>\n",
       "      <td>5160.882289</td>\n",
       "    </tr>\n",
       "    <tr>\n",
       "      <th>0</th>\n",
       "      <td>Aveiro</td>\n",
       "      <td>3129.751000</td>\n",
       "    </tr>\n",
       "    <tr>\n",
       "      <th>4</th>\n",
       "      <td>Castelo Branco</td>\n",
       "      <td>3060.763070</td>\n",
       "    </tr>\n",
       "    <tr>\n",
       "      <th>12</th>\n",
       "      <td>Santarém</td>\n",
       "      <td>2697.149607</td>\n",
       "    </tr>\n",
       "    <tr>\n",
       "      <th>11</th>\n",
       "      <td>Porto</td>\n",
       "      <td>2432.816900</td>\n",
       "    </tr>\n",
       "    <tr>\n",
       "      <th>1</th>\n",
       "      <td>Beja</td>\n",
       "      <td>1869.038850</td>\n",
       "    </tr>\n",
       "    <tr>\n",
       "      <th>17</th>\n",
       "      <td>Évora</td>\n",
       "      <td>1514.112600</td>\n",
       "    </tr>\n",
       "    <tr>\n",
       "      <th>5</th>\n",
       "      <td>Coimbra</td>\n",
       "      <td>1437.085600</td>\n",
       "    </tr>\n",
       "    <tr>\n",
       "      <th>9</th>\n",
       "      <td>Lisboa</td>\n",
       "      <td>1044.686820</td>\n",
       "    </tr>\n",
       "    <tr>\n",
       "      <th>8</th>\n",
       "      <td>Leiria</td>\n",
       "      <td>1029.560300</td>\n",
       "    </tr>\n",
       "    <tr>\n",
       "      <th>6</th>\n",
       "      <td>Faro</td>\n",
       "      <td>459.654250</td>\n",
       "    </tr>\n",
       "    <tr>\n",
       "      <th>10</th>\n",
       "      <td>Portalegre</td>\n",
       "      <td>422.394900</td>\n",
       "    </tr>\n",
       "    <tr>\n",
       "      <th>13</th>\n",
       "      <td>Setúbal</td>\n",
       "      <td>414.719700</td>\n",
       "    </tr>\n",
       "  </tbody>\n",
       "</table>\n",
       "</div>"
      ],
      "text/plain": [
       "            Distrito  AreaTotalQueimada\n",
       "7             Guarda       12808.346764\n",
       "14  Viana do Castelo        9856.387800\n",
       "16             Viseu        6378.313400\n",
       "2              Braga        5637.858200\n",
       "15         Vila Real        5445.931800\n",
       "3           Bragança        5160.882289\n",
       "0             Aveiro        3129.751000\n",
       "4     Castelo Branco        3060.763070\n",
       "12          Santarém        2697.149607\n",
       "11             Porto        2432.816900\n",
       "1               Beja        1869.038850\n",
       "17             Évora        1514.112600\n",
       "5            Coimbra        1437.085600\n",
       "9             Lisboa        1044.686820\n",
       "8             Leiria        1029.560300\n",
       "6               Faro         459.654250\n",
       "10        Portalegre         422.394900\n",
       "13           Setúbal         414.719700"
      ]
     },
     "execution_count": 44,
     "metadata": {},
     "output_type": "execute_result"
    }
   ],
   "source": [
    "tempoacao = df5.groupby(['Distrito']).AreaTotalQueimada.sum().reset_index()\n",
    "tempoacao.sort_values('AreaTotalQueimada', ascending=False)"
   ]
  },
  {
   "cell_type": "code",
   "execution_count": 45,
   "metadata": {},
   "outputs": [
    {
     "data": {
      "image/png": "[encoded data removed]",
      "text/plain": [
       "<Figure size 1080x576 with 1 Axes>"
      ]
     },
     "metadata": {},
     "output_type": "display_data"
    }
   ],
   "source": [
    "fig, axes = plt.subplots(figsize = (15, 8))\n",
    "count_dist=df5.groupby('Distrito')['AreaTotalQueimada'].sum()\n",
    "count_dist = count_dist.sort_values(ascending=False)\n",
    "ax = count_dist.plot.bar(color=\"darkseagreen\",ec=\"black\")\n",
    "ax.set_ylabel('Total de Área Ardida (ha)')\n",
    "ax.set_title('Total de área queimada por distrito',fontsize=15)\n",
    "ax.grid()"
   ]
  },
  {
   "cell_type": "markdown",
   "metadata": {},
   "source": [
    "In this results, it is clear that Guarda and Viana do Castelo was the most affected districts by fires, with almost two times the total burnt area of the other districts."
   ]
  },
  {
   "cell_type": "markdown",
   "metadata": {},
   "source": [
    "## STEP 4 : Draw Inferences<a class=\"anchor\" id=\"infer\"></a>\n"
   ]
  },
  {
   "cell_type": "markdown",
   "metadata": {},
   "source": [
    "### **Question 1:**<a class=\"anchor\" id=\"q1\"></a>\n",
    "\n",
    "- Fires with TempoAcao greater than 13 minutes have a AreaTotalQueimada above than 50 acres?"
   ]
  },
  {
   "cell_type": "markdown",
   "metadata": {},
   "source": [
    "- H0: = area ardida\n",
    "- H1: > Area ardida"
   ]
  },
  {
   "cell_type": "code",
   "execution_count": 140,
   "metadata": {},
   "outputs": [],
   "source": [
    "lista = []\n",
    "for i in range(1,50):\n",
    "    df = df5[df5.TempoAcao > 13].sample(n=50)\n",
    "    df = sum(df['AreaTotalQueimada'])\n",
    "    lista.append(df)\n",
    "\n",
    "x2 = np.array(lista)"
   ]
  },
  {
   "cell_type": "code",
   "execution_count": 142,
   "metadata": {},
   "outputs": [
    {
     "data": {
      "text/plain": [
       "<AxesSubplot:ylabel='Count'>"
      ]
     },
     "execution_count": 142,
     "metadata": {},
     "output_type": "execute_result"
    },
    {
     "data": {
      "image/png": "[encoded data removed]",
      "text/plain": [
       "<Figure size 1440x720 with 1 Axes>"
      ]
     },
     "metadata": {},
     "output_type": "display_data"
    }
   ],
   "source": [
    "sns.histplot(x=x1, kde=True)"
   ]
  },
  {
   "cell_type": "code",
   "execution_count": 143,
   "metadata": {},
   "outputs": [
    {
     "name": "stdout",
     "output_type": "stream",
     "text": [
      "Confidence interval: (117.50342913906385, 539.3343007793035)\n"
     ]
    }
   ],
   "source": [
    "import numpy as np \n",
    "from scipy.stats import t\n",
    "m = x2.mean() \n",
    "s = x2.std() \n",
    "dof = len(x1)-1 \n",
    "confidence = 0.95\n",
    "t_crit = np.abs(t.ppf((1-confidence)/2,dof))\n",
    "print(f\"Confidence interval:\", (m-s*t_crit/np.sqrt(len(xw)), m+s*t_crit/np.sqrt(len(xw)))) "
   ]
  },
  {
   "cell_type": "markdown",
   "metadata": {},
   "source": [
    "## Step 5 : Formulate conclusions<a class=\"anchor\" id=\"conc\"></a>"
   ]
  },
  {
   "cell_type": "markdown",
   "metadata": {},
   "source": [
    "Since the value is outside the confidence interval, is possible to reject the null hypotesis. So, there statistical evidence to claim that fires with TempoAcao greater than 13 minutes lead to a higher burnt area."
   ]
  },
  {
   "cell_type": "markdown",
   "metadata": {},
   "source": [
    "## Step 6 : Look back and ahead<a class=\"anchor\" id=\"ba\"></a>"
   ]
  },
  {
   "cell_type": "markdown",
   "metadata": {},
   "source": [
    "- In short, it was interesting to do this work. \n",
    "\n",
    "- It allowed me a greater resolution at the statistical level.\n",
    "\n",
    "- It would be interesting to analyze, in future works, other factors that influence fires, such as temperature, humidity, wind intensity or soil drought."
   ]
  }
 ],
 "metadata": {
  "kernelspec": {
   "display_name": "Python 3 (ipykernel)",
   "language": "python",
   "name": "python3"
  },
  "language_info": {
   "codemirror_mode": {
    "name": "ipython",
    "version": 3
   },
   "file_extension": ".py",
   "mimetype": "text/x-python",
   "name": "python",
   "nbconvert_exporter": "python",
   "pygments_lexer": "ipython3",
   "version": "3.9.12"
  },
  "vscode": {
   "interpreter": {
    "hash": "43e22c5a6049faf2449d14a09356f030fcc0cc73f4f01c46b9c6659d924fad91"
   }
  }
 },
 "nbformat": 4,
 "nbformat_minor": 4
}
